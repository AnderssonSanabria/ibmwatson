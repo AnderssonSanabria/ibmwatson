{
    "cells": [
        {
            "cell_type": "code",
            "execution_count": 1,
            "metadata": {},
            "outputs": [],
            "source": "import pandas as pd\nimport numpy as np\nimport matplotlib.pyplot as plt\nimport seaborn as sns\nfrom sklearn.preprocessing import StandardScaler \nfrom sklearn.model_selection import train_test_split\nfrom sklearn.tree import DecisionTreeClassifier\nfrom sklearn.ensemble import RandomForestRegressor\nfrom sklearn.metrics import accuracy_score\nfrom sklearn.base import BaseEstimator, TransformerMixin\nfrom sklearn.pipeline import Pipeline\n\n"
        },
        {
            "cell_type": "code",
            "execution_count": 2,
            "metadata": {},
            "outputs": [
                {
                    "data": {
                        "text/html": "<div>\n<style scoped>\n    .dataframe tbody tr th:only-of-type {\n        vertical-align: middle;\n    }\n\n    .dataframe tbody tr th {\n        vertical-align: top;\n    }\n\n    .dataframe thead th {\n        text-align: right;\n    }\n</style>\n<table border=\"1\" class=\"dataframe\">\n  <thead>\n    <tr style=\"text-align: right;\">\n      <th></th>\n      <th>ID</th>\n      <th>PAYMENT_TERM</th>\n      <th>INSTALLMENT_PLANS</th>\n      <th>INSTALLMENT_PERCENT</th>\n      <th>LOAN_PURPOSE</th>\n      <th>LOAN_AMOUNT</th>\n      <th>OTHERS_ON_LOAN</th>\n      <th>ALLOW</th>\n    </tr>\n  </thead>\n  <tbody>\n    <tr>\n      <th>0</th>\n      <td>610339</td>\n      <td>713.0</td>\n      <td>STORES</td>\n      <td>3.0</td>\n      <td>CAR_USED</td>\n      <td>3103.0</td>\n      <td>NONE</td>\n      <td>1</td>\n    </tr>\n    <tr>\n      <th>1</th>\n      <td>109167</td>\n      <td>341.0</td>\n      <td>STORES</td>\n      <td>1.0</td>\n      <td>CAR_NEW</td>\n      <td>716.0</td>\n      <td>NONE</td>\n      <td>1</td>\n    </tr>\n    <tr>\n      <th>2</th>\n      <td>823322</td>\n      <td>868.0</td>\n      <td>NONE</td>\n      <td>4.0</td>\n      <td>APPLIANCES</td>\n      <td>4333.0</td>\n      <td>NONE</td>\n      <td>1</td>\n    </tr>\n    <tr>\n      <th>3</th>\n      <td>322224</td>\n      <td>310.0</td>\n      <td>STORES</td>\n      <td>2.0</td>\n      <td>FURNITURE</td>\n      <td>250.0</td>\n      <td>NONE</td>\n      <td>1</td>\n    </tr>\n    <tr>\n      <th>4</th>\n      <td>912693</td>\n      <td>620.0</td>\n      <td>NONE</td>\n      <td>2.0</td>\n      <td>CAR_USED</td>\n      <td>2454.0</td>\n      <td>NONE</td>\n      <td>0</td>\n    </tr>\n  </tbody>\n</table>\n</div>",
                        "text/plain": "       ID  PAYMENT_TERM INSTALLMENT_PLANS  INSTALLMENT_PERCENT LOAN_PURPOSE  \\\n0  610339         713.0            STORES                  3.0     CAR_USED   \n1  109167         341.0            STORES                  1.0      CAR_NEW   \n2  823322         868.0              NONE                  4.0   APPLIANCES   \n3  322224         310.0            STORES                  2.0    FURNITURE   \n4  912693         620.0              NONE                  2.0     CAR_USED   \n\n   LOAN_AMOUNT OTHERS_ON_LOAN  ALLOW  \n0       3103.0           NONE      1  \n1        716.0           NONE      1  \n2       4333.0           NONE      1  \n3        250.0           NONE      1  \n4       2454.0           NONE      0  "
                    },
                    "execution_count": 2,
                    "metadata": {},
                    "output_type": "execute_result"
                }
            ],
            "source": "# The code was removed by Watson Studio for sharing."
        },
        {
            "cell_type": "code",
            "execution_count": 3,
            "metadata": {},
            "outputs": [
                {
                    "data": {
                        "text/html": "<div>\n<style scoped>\n    .dataframe tbody tr th:only-of-type {\n        vertical-align: middle;\n    }\n\n    .dataframe tbody tr th {\n        vertical-align: top;\n    }\n\n    .dataframe thead th {\n        text-align: right;\n    }\n</style>\n<table border=\"1\" class=\"dataframe\">\n  <thead>\n    <tr style=\"text-align: right;\">\n      <th></th>\n      <th>ID</th>\n      <th>SEX</th>\n      <th>AGE</th>\n      <th>JOB_TYPE</th>\n      <th>DEPENDENTS</th>\n      <th>TELEPHONE</th>\n      <th>FOREIGN_WORKER</th>\n      <th>EMPLOYMENT_DURATION</th>\n      <th>PROPERTY</th>\n      <th>HOUSING</th>\n      <th>CURRENT_RESIDENCE_DURATION</th>\n    </tr>\n  </thead>\n  <tbody>\n    <tr>\n      <th>0</th>\n      <td>24252</td>\n      <td>M</td>\n      <td>47.0</td>\n      <td>3.0</td>\n      <td>1.0</td>\n      <td>0.0</td>\n      <td>1.0</td>\n      <td>14.0</td>\n      <td>SAVINGS_INSURANCE</td>\n      <td>OWN</td>\n      <td>3.0</td>\n    </tr>\n    <tr>\n      <th>1</th>\n      <td>1002018</td>\n      <td>M</td>\n      <td>19.0</td>\n      <td>3.0</td>\n      <td>1.0</td>\n      <td>0.0</td>\n      <td>1.0</td>\n      <td>0.0</td>\n      <td>SAVINGS_INSURANCE</td>\n      <td>RENT</td>\n      <td>2.0</td>\n    </tr>\n    <tr>\n      <th>2</th>\n      <td>1240455</td>\n      <td>F</td>\n      <td>50.0</td>\n      <td>2.0</td>\n      <td>1.0</td>\n      <td>1.0</td>\n      <td>1.0</td>\n      <td>7.0</td>\n      <td>UNKNOWN</td>\n      <td>OWN</td>\n      <td>3.0</td>\n    </tr>\n    <tr>\n      <th>3</th>\n      <td>107799</td>\n      <td>M</td>\n      <td>35.0</td>\n      <td>3.0</td>\n      <td>1.0</td>\n      <td>0.0</td>\n      <td>1.0</td>\n      <td>0.0</td>\n      <td>REAL_ESTATE</td>\n      <td>OWN</td>\n      <td>2.0</td>\n    </tr>\n    <tr>\n      <th>4</th>\n      <td>184883</td>\n      <td>M</td>\n      <td>40.0</td>\n      <td>1.0</td>\n      <td>1.0</td>\n      <td>0.0</td>\n      <td>1.0</td>\n      <td>9.0</td>\n      <td>CAR_OTHER</td>\n      <td>OWN</td>\n      <td>4.0</td>\n    </tr>\n  </tbody>\n</table>\n</div>",
                        "text/plain": "        ID SEX   AGE  JOB_TYPE  DEPENDENTS  TELEPHONE  FOREIGN_WORKER  \\\n0    24252   M  47.0       3.0         1.0        0.0             1.0   \n1  1002018   M  19.0       3.0         1.0        0.0             1.0   \n2  1240455   F  50.0       2.0         1.0        1.0             1.0   \n3   107799   M  35.0       3.0         1.0        0.0             1.0   \n4   184883   M  40.0       1.0         1.0        0.0             1.0   \n\n   EMPLOYMENT_DURATION           PROPERTY HOUSING  CURRENT_RESIDENCE_DURATION  \n0                 14.0  SAVINGS_INSURANCE     OWN                         3.0  \n1                  0.0  SAVINGS_INSURANCE    RENT                         2.0  \n2                  7.0            UNKNOWN     OWN                         3.0  \n3                  0.0        REAL_ESTATE     OWN                         2.0  \n4                  9.0          CAR_OTHER     OWN                         4.0  "
                    },
                    "execution_count": 3,
                    "metadata": {},
                    "output_type": "execute_result"
                }
            ],
            "source": "\nbody = client_51ac9752a63648d2959e66f034dfa6f3.get_object(Bucket='desafio1-donotdelete-pr-kz3ec0aucx4ash',Key='DEMOGRAPHICS.csv')['Body']\n# add missing __iter__ method, so pandas accepts body as file-like object\nif not hasattr(body, \"__iter__\"): body.__iter__ = types.MethodType( __iter__, body )\n\ndf_data_2 = pd.read_csv(body)\ndf_data_2.head()\n"
        },
        {
            "cell_type": "code",
            "execution_count": 4,
            "metadata": {},
            "outputs": [
                {
                    "data": {
                        "text/html": "<div>\n<style scoped>\n    .dataframe tbody tr th:only-of-type {\n        vertical-align: middle;\n    }\n\n    .dataframe tbody tr th {\n        vertical-align: top;\n    }\n\n    .dataframe thead th {\n        text-align: right;\n    }\n</style>\n<table border=\"1\" class=\"dataframe\">\n  <thead>\n    <tr style=\"text-align: right;\">\n      <th></th>\n      <th>ID</th>\n      <th>CHECKING_BALANCE</th>\n      <th>CREDIT_HISTORY</th>\n      <th>EXISTING_SAVINGS</th>\n      <th>EXISTING_CREDITS_COUNT</th>\n    </tr>\n  </thead>\n  <tbody>\n    <tr>\n      <th>0</th>\n      <td>291655</td>\n      <td>-566.53</td>\n      <td>ALL_CREDITS_PAID_BACK</td>\n      <td>36.42</td>\n      <td>1.0</td>\n    </tr>\n    <tr>\n      <th>1</th>\n      <td>657079</td>\n      <td>-1673.16</td>\n      <td>CREDITS_PAID_TO_DATE</td>\n      <td>22.9</td>\n      <td>1.0</td>\n    </tr>\n    <tr>\n      <th>2</th>\n      <td>256050</td>\n      <td>NO_CHECKING</td>\n      <td>CREDITS_PAID_TO_DATE</td>\n      <td>450.35</td>\n      <td>2.0</td>\n    </tr>\n    <tr>\n      <th>3</th>\n      <td>1039151</td>\n      <td>-1471.03</td>\n      <td>PRIOR_PAYMENTS_DELAYED</td>\n      <td>805.71</td>\n      <td>2.0</td>\n    </tr>\n    <tr>\n      <th>4</th>\n      <td>1002660</td>\n      <td>NO_CHECKING</td>\n      <td>CREDITS_PAID_TO_DATE</td>\n      <td>295.03</td>\n      <td>1.0</td>\n    </tr>\n  </tbody>\n</table>\n</div>",
                        "text/plain": "        ID CHECKING_BALANCE          CREDIT_HISTORY EXISTING_SAVINGS  \\\n0   291655          -566.53   ALL_CREDITS_PAID_BACK            36.42   \n1   657079         -1673.16    CREDITS_PAID_TO_DATE             22.9   \n2   256050      NO_CHECKING    CREDITS_PAID_TO_DATE           450.35   \n3  1039151         -1471.03  PRIOR_PAYMENTS_DELAYED           805.71   \n4  1002660      NO_CHECKING    CREDITS_PAID_TO_DATE           295.03   \n\n   EXISTING_CREDITS_COUNT  \n0                     1.0  \n1                     1.0  \n2                     2.0  \n3                     2.0  \n4                     1.0  "
                    },
                    "execution_count": 4,
                    "metadata": {},
                    "output_type": "execute_result"
                }
            ],
            "source": "\nbody = client_51ac9752a63648d2959e66f034dfa6f3.get_object(Bucket='desafio1-donotdelete-pr-kz3ec0aucx4ash',Key='ACCOUNTS.csv')['Body']\n# add missing __iter__ method, so pandas accepts body as file-like object\nif not hasattr(body, \"__iter__\"): body.__iter__ = types.MethodType( __iter__, body )\n\ndf_data_3 = pd.read_csv(body)\ndf_data_3.head()\n"
        },
        {
            "cell_type": "code",
            "execution_count": 5,
            "metadata": {},
            "outputs": [
                {
                    "name": "stdout",
                    "output_type": "stream",
                    "text": "<class 'pandas.core.frame.DataFrame'>\nRangeIndex: 3999 entries, 0 to 3998\nData columns (total 8 columns):\n #   Column               Non-Null Count  Dtype  \n---  ------               --------------  -----  \n 0   ID                   3999 non-null   int64  \n 1   PAYMENT_TERM         3975 non-null   float64\n 2   INSTALLMENT_PLANS    3978 non-null   object \n 3   INSTALLMENT_PERCENT  3974 non-null   float64\n 4   LOAN_PURPOSE         3979 non-null   object \n 5   LOAN_AMOUNT          3981 non-null   float64\n 6   OTHERS_ON_LOAN       3977 non-null   object \n 7   ALLOW                3999 non-null   int64  \ndtypes: float64(3), int64(2), object(3)\nmemory usage: 250.1+ KB\n"
                },
                {
                    "data": {
                        "image/png": "[encoded data removed]",
                        "text/plain": "<Figure size 432x288 with 1 Axes>"
                    },
                    "metadata": {
                        "needs_background": "light"
                    },
                    "output_type": "display_data"
                }
            ],
            "source": "loans = df_data_1\nloans.info()\nloans.describe()\nrisk_plot = sns.countplot(data=loans, x='ALLOW', order=loans['ALLOW'].value_counts().index)\nplt.show()"
        },
        {
            "cell_type": "code",
            "execution_count": 6,
            "metadata": {
                "scrolled": true
            },
            "outputs": [
                {
                    "name": "stdout",
                    "output_type": "stream",
                    "text": "<class 'pandas.core.frame.DataFrame'>\nRangeIndex: 3936 entries, 0 to 3935\nData columns (total 11 columns):\n #   Column                      Non-Null Count  Dtype  \n---  ------                      --------------  -----  \n 0   ID                          3936 non-null   int64  \n 1   SEX                         3920 non-null   object \n 2   AGE                         3918 non-null   float64\n 3   JOB_TYPE                    3910 non-null   float64\n 4   DEPENDENTS                  3915 non-null   float64\n 5   TELEPHONE                   3915 non-null   float64\n 6   FOREIGN_WORKER              3909 non-null   float64\n 7   EMPLOYMENT_DURATION         3923 non-null   float64\n 8   PROPERTY                    3918 non-null   object \n 9   HOUSING                     3912 non-null   object \n 10  CURRENT_RESIDENCE_DURATION  3917 non-null   float64\ndtypes: float64(7), int64(1), object(3)\nmemory usage: 338.4+ KB\n"
                },
                {
                    "data": {
                        "text/html": "<div>\n<style scoped>\n    .dataframe tbody tr th:only-of-type {\n        vertical-align: middle;\n    }\n\n    .dataframe tbody tr th {\n        vertical-align: top;\n    }\n\n    .dataframe thead th {\n        text-align: right;\n    }\n</style>\n<table border=\"1\" class=\"dataframe\">\n  <thead>\n    <tr style=\"text-align: right;\">\n      <th></th>\n      <th>ID</th>\n      <th>AGE</th>\n      <th>JOB_TYPE</th>\n      <th>DEPENDENTS</th>\n      <th>TELEPHONE</th>\n      <th>FOREIGN_WORKER</th>\n      <th>EMPLOYMENT_DURATION</th>\n      <th>CURRENT_RESIDENCE_DURATION</th>\n    </tr>\n  </thead>\n  <tbody>\n    <tr>\n      <th>count</th>\n      <td>3.936000e+03</td>\n      <td>3918.000000</td>\n      <td>3910.000000</td>\n      <td>3915.000000</td>\n      <td>3915.000000</td>\n      <td>3909.000000</td>\n      <td>3923.000000</td>\n      <td>3917.000000</td>\n    </tr>\n    <tr>\n      <th>mean</th>\n      <td>6.614226e+05</td>\n      <td>36.032925</td>\n      <td>2.429923</td>\n      <td>1.161175</td>\n      <td>0.412005</td>\n      <td>0.975697</td>\n      <td>4.238848</td>\n      <td>2.865458</td>\n    </tr>\n    <tr>\n      <th>std</th>\n      <td>3.731249e+05</td>\n      <td>10.617743</td>\n      <td>0.931842</td>\n      <td>0.367739</td>\n      <td>0.492259</td>\n      <td>0.154008</td>\n      <td>3.595680</td>\n      <td>1.115873</td>\n    </tr>\n    <tr>\n      <th>min</th>\n      <td>9.800000e+01</td>\n      <td>19.000000</td>\n      <td>0.000000</td>\n      <td>1.000000</td>\n      <td>0.000000</td>\n      <td>0.000000</td>\n      <td>0.000000</td>\n      <td>1.000000</td>\n    </tr>\n    <tr>\n      <th>25%</th>\n      <td>3.427448e+05</td>\n      <td>28.000000</td>\n      <td>2.000000</td>\n      <td>1.000000</td>\n      <td>0.000000</td>\n      <td>1.000000</td>\n      <td>1.000000</td>\n      <td>2.000000</td>\n    </tr>\n    <tr>\n      <th>50%</th>\n      <td>6.679115e+05</td>\n      <td>36.000000</td>\n      <td>3.000000</td>\n      <td>1.000000</td>\n      <td>0.000000</td>\n      <td>1.000000</td>\n      <td>4.000000</td>\n      <td>3.000000</td>\n    </tr>\n    <tr>\n      <th>75%</th>\n      <td>9.794970e+05</td>\n      <td>44.000000</td>\n      <td>3.000000</td>\n      <td>1.000000</td>\n      <td>1.000000</td>\n      <td>1.000000</td>\n      <td>7.000000</td>\n      <td>4.000000</td>\n    </tr>\n    <tr>\n      <th>max</th>\n      <td>1.320082e+06</td>\n      <td>74.000000</td>\n      <td>3.000000</td>\n      <td>2.000000</td>\n      <td>1.000000</td>\n      <td>1.000000</td>\n      <td>18.000000</td>\n      <td>6.000000</td>\n    </tr>\n  </tbody>\n</table>\n</div>",
                        "text/plain": "                 ID          AGE     JOB_TYPE   DEPENDENTS    TELEPHONE  \\\ncount  3.936000e+03  3918.000000  3910.000000  3915.000000  3915.000000   \nmean   6.614226e+05    36.032925     2.429923     1.161175     0.412005   \nstd    3.731249e+05    10.617743     0.931842     0.367739     0.492259   \nmin    9.800000e+01    19.000000     0.000000     1.000000     0.000000   \n25%    3.427448e+05    28.000000     2.000000     1.000000     0.000000   \n50%    6.679115e+05    36.000000     3.000000     1.000000     0.000000   \n75%    9.794970e+05    44.000000     3.000000     1.000000     1.000000   \nmax    1.320082e+06    74.000000     3.000000     2.000000     1.000000   \n\n       FOREIGN_WORKER  EMPLOYMENT_DURATION  CURRENT_RESIDENCE_DURATION  \ncount     3909.000000          3923.000000                 3917.000000  \nmean         0.975697             4.238848                    2.865458  \nstd          0.154008             3.595680                    1.115873  \nmin          0.000000             0.000000                    1.000000  \n25%          1.000000             1.000000                    2.000000  \n50%          1.000000             4.000000                    3.000000  \n75%          1.000000             7.000000                    4.000000  \nmax          1.000000            18.000000                    6.000000  "
                    },
                    "execution_count": 6,
                    "metadata": {},
                    "output_type": "execute_result"
                }
            ],
            "source": "demographics = df_data_2\ndemographics.info()\ndemographics.describe()\n"
        },
        {
            "cell_type": "code",
            "execution_count": 7,
            "metadata": {},
            "outputs": [
                {
                    "name": "stdout",
                    "output_type": "stream",
                    "text": "<class 'pandas.core.frame.DataFrame'>\nRangeIndex: 2477 entries, 0 to 2476\nData columns (total 5 columns):\n #   Column                  Non-Null Count  Dtype  \n---  ------                  --------------  -----  \n 0   ID                      2477 non-null   int64  \n 1   CHECKING_BALANCE        2467 non-null   object \n 2   CREDIT_HISTORY          2462 non-null   object \n 3   EXISTING_SAVINGS        2467 non-null   object \n 4   EXISTING_CREDITS_COUNT  2463 non-null   float64\ndtypes: float64(1), int64(1), object(3)\nmemory usage: 96.9+ KB\n"
                },
                {
                    "data": {
                        "text/html": "<div>\n<style scoped>\n    .dataframe tbody tr th:only-of-type {\n        vertical-align: middle;\n    }\n\n    .dataframe tbody tr th {\n        vertical-align: top;\n    }\n\n    .dataframe thead th {\n        text-align: right;\n    }\n</style>\n<table border=\"1\" class=\"dataframe\">\n  <thead>\n    <tr style=\"text-align: right;\">\n      <th></th>\n      <th>ID</th>\n      <th>EXISTING_CREDITS_COUNT</th>\n    </tr>\n  </thead>\n  <tbody>\n    <tr>\n      <th>count</th>\n      <td>2.477000e+03</td>\n      <td>2463.000000</td>\n    </tr>\n    <tr>\n      <th>mean</th>\n      <td>6.683799e+05</td>\n      <td>1.469752</td>\n    </tr>\n    <tr>\n      <th>std</th>\n      <td>3.730570e+05</td>\n      <td>0.569142</td>\n    </tr>\n    <tr>\n      <th>min</th>\n      <td>9.800000e+01</td>\n      <td>1.000000</td>\n    </tr>\n    <tr>\n      <th>25%</th>\n      <td>3.521920e+05</td>\n      <td>1.000000</td>\n    </tr>\n    <tr>\n      <th>50%</th>\n      <td>6.809460e+05</td>\n      <td>1.000000</td>\n    </tr>\n    <tr>\n      <th>75%</th>\n      <td>9.857560e+05</td>\n      <td>2.000000</td>\n    </tr>\n    <tr>\n      <th>max</th>\n      <td>1.319964e+06</td>\n      <td>3.000000</td>\n    </tr>\n  </tbody>\n</table>\n</div>",
                        "text/plain": "                 ID  EXISTING_CREDITS_COUNT\ncount  2.477000e+03             2463.000000\nmean   6.683799e+05                1.469752\nstd    3.730570e+05                0.569142\nmin    9.800000e+01                1.000000\n25%    3.521920e+05                1.000000\n50%    6.809460e+05                1.000000\n75%    9.857560e+05                2.000000\nmax    1.319964e+06                3.000000"
                    },
                    "execution_count": 7,
                    "metadata": {},
                    "output_type": "execute_result"
                }
            ],
            "source": "accounts = df_data_3\naccounts.info()\naccounts.describe()"
        },
        {
            "cell_type": "code",
            "execution_count": null,
            "metadata": {},
            "outputs": [],
            "source": ""
        },
        {
            "cell_type": "code",
            "execution_count": 8,
            "metadata": {},
            "outputs": [
                {
                    "name": "stdout",
                    "output_type": "stream",
                    "text": "<class 'pandas.core.frame.DataFrame'>\nInt64Index: 3870 entries, 0 to 3998\nData columns (total 22 columns):\n #   Column               Non-Null Count  Dtype  \n---  ------               --------------  -----  \n 0   ID                   3870 non-null   int64  \n 1   PAYMENT_TERM         3870 non-null   float64\n 2   INSTALLMENT_PERCENT  3870 non-null   float64\n 3   LOAN_AMOUNT          3870 non-null   float64\n 4   ALLOW                3870 non-null   int64  \n 5   CO-APPLICANT         3870 non-null   uint8  \n 6   GUARANTOR            3870 non-null   uint8  \n 7   NONE                 3870 non-null   uint8  \n 8   APPLIANCES           3870 non-null   uint8  \n 9   BUSINESS             3870 non-null   uint8  \n 10  CAR_NEW              3870 non-null   uint8  \n 11  CAR_USED             3870 non-null   uint8  \n 12  EDUCATION            3870 non-null   uint8  \n 13  FURNITURE            3870 non-null   uint8  \n 14  OTHER                3870 non-null   uint8  \n 15  RADIO_TV             3870 non-null   uint8  \n 16  REPAIRS              3870 non-null   uint8  \n 17  RETRAINING           3870 non-null   uint8  \n 18  VACATION             3870 non-null   uint8  \n 19  BANK                 3870 non-null   uint8  \n 20  NONE                 3870 non-null   uint8  \n 21  STORES               3870 non-null   uint8  \ndtypes: float64(3), int64(2), uint8(17)\nmemory usage: 245.7 KB\n"
                }
            ],
            "source": "clean_df = loans.dropna()\nINSTALLMENT_PLANS_CAT=pd.get_dummies(clean_df['INSTALLMENT_PLANS'])\nLOAN_PURPOSE_CAT=pd.get_dummies(clean_df['LOAN_PURPOSE'])\nOTHERS_ON_LOAN_CAT=pd.get_dummies(clean_df['OTHERS_ON_LOAN'])\nclean_df.head()\nclean_df =pd.concat((clean_df,OTHERS_ON_LOAN_CAT,LOAN_PURPOSE_CAT,INSTALLMENT_PLANS_CAT), axis=1)\nloans_clean_df=clean_df.drop(['INSTALLMENT_PLANS','LOAN_PURPOSE','OTHERS_ON_LOAN'], axis=1)\nloans_clean_df.info()"
        },
        {
            "cell_type": "code",
            "execution_count": 9,
            "metadata": {},
            "outputs": [
                {
                    "name": "stdout",
                    "output_type": "stream",
                    "text": "<class 'pandas.core.frame.DataFrame'>\nInt64Index: 3736 entries, 0 to 3935\nData columns (total 17 columns):\n #   Column                      Non-Null Count  Dtype  \n---  ------                      --------------  -----  \n 0   ID                          3736 non-null   int64  \n 1   AGE                         3736 non-null   float64\n 2   JOB_TYPE                    3736 non-null   float64\n 3   DEPENDENTS                  3736 non-null   float64\n 4   TELEPHONE                   3736 non-null   float64\n 5   FOREIGN_WORKER              3736 non-null   float64\n 6   EMPLOYMENT_DURATION         3736 non-null   float64\n 7   CURRENT_RESIDENCE_DURATION  3736 non-null   float64\n 8   F                           3736 non-null   uint8  \n 9   M                           3736 non-null   uint8  \n 10  CAR_OTHER                   3736 non-null   uint8  \n 11  REAL_ESTATE                 3736 non-null   uint8  \n 12  SAVINGS_INSURANCE           3736 non-null   uint8  \n 13  UNKNOWN                     3736 non-null   uint8  \n 14  FREE                        3736 non-null   uint8  \n 15  OWN                         3736 non-null   uint8  \n 16  RENT                        3736 non-null   uint8  \ndtypes: float64(7), int64(1), uint8(9)\nmemory usage: 295.5 KB\n"
                }
            ],
            "source": "clean_df2 = demographics.dropna()\nSEX=pd.get_dummies(clean_df2['SEX'])\nPROPERTY_CAT=pd.get_dummies(clean_df2['PROPERTY'])\nHOUSING_CAT=pd.get_dummies(clean_df2['HOUSING'])\nclean_df2 =pd.concat((clean_df2,SEX,PROPERTY_CAT,HOUSING_CAT), axis=1)\ndemographics_clean_df=clean_df2.drop(['PROPERTY','HOUSING','SEX'], axis=1)\ndemographics_clean_df.info()"
        },
        {
            "cell_type": "code",
            "execution_count": 10,
            "metadata": {},
            "outputs": [
                {
                    "name": "stdout",
                    "output_type": "stream",
                    "text": "<class 'pandas.core.frame.DataFrame'>\nInt64Index: 2255 entries, 0 to 2474\nData columns (total 9 columns):\n #   Column                  Non-Null Count  Dtype  \n---  ------                  --------------  -----  \n 0   ID                      2255 non-null   int64  \n 1   CHECKING_BALANCE        2255 non-null   float64\n 2   EXISTING_SAVINGS        2255 non-null   float64\n 3   EXISTING_CREDITS_COUNT  2255 non-null   float64\n 4   ALL_CREDITS_PAID_BACK   2255 non-null   uint8  \n 5   CREDITS_PAID_TO_DATE    2255 non-null   uint8  \n 6   NO_CREDITS              2255 non-null   uint8  \n 7   OUTSTANDING_CREDIT      2255 non-null   uint8  \n 8   PRIOR_PAYMENTS_DELAYED  2255 non-null   uint8  \ndtypes: float64(3), int64(1), uint8(5)\nmemory usage: 99.1 KB\n"
                }
            ],
            "source": "clean_df3 = accounts.dropna()\nclean_df3 = clean_df3.drop(clean_df3[clean_df3['EXISTING_SAVINGS']=='UNKNOWN'].index)\nclean_df3['CHECKING_BALANCE']= clean_df3['CHECKING_BALANCE'].replace('NO_CHECKING','0')\nclean_df3['CHECKING_BALANCE'] = pd.to_numeric(clean_df3['CHECKING_BALANCE'],errors = 'coerce')\nclean_df3['EXISTING_SAVINGS'] = pd.to_numeric(clean_df3['EXISTING_SAVINGS'],errors = 'coerce')\nCREDIT_HISTORY_CAT=pd.get_dummies(clean_df3['CREDIT_HISTORY'])\nclean_df3 =pd.concat((clean_df3,CREDIT_HISTORY_CAT), axis=1)\naccounts_clean_df=clean_df3.drop(['CREDIT_HISTORY'], axis=1)\naccounts_clean_df.info()\n\n"
        },
        {
            "cell_type": "code",
            "execution_count": 11,
            "metadata": {},
            "outputs": [
                {
                    "name": "stdout",
                    "output_type": "stream",
                    "text": "<class 'pandas.core.frame.DataFrame'>\nInt64Index: 2075 entries, 0 to 2074\nData columns (total 46 columns):\n #   Column                      Non-Null Count  Dtype  \n---  ------                      --------------  -----  \n 0   ID                          2075 non-null   int64  \n 1   PAYMENT_TERM                2075 non-null   float64\n 2   INSTALLMENT_PERCENT         2075 non-null   float64\n 3   LOAN_AMOUNT                 2075 non-null   float64\n 4   ALLOW                       2075 non-null   int64  \n 5   CO-APPLICANT                2075 non-null   uint8  \n 6   GUARANTOR                   2075 non-null   uint8  \n 7   NONE                        2075 non-null   uint8  \n 8   APPLIANCES                  2075 non-null   uint8  \n 9   BUSINESS                    2075 non-null   uint8  \n 10  CAR_NEW                     2075 non-null   uint8  \n 11  CAR_USED                    2075 non-null   uint8  \n 12  EDUCATION                   2075 non-null   uint8  \n 13  FURNITURE                   2075 non-null   uint8  \n 14  OTHER                       2075 non-null   uint8  \n 15  RADIO_TV                    2075 non-null   uint8  \n 16  REPAIRS                     2075 non-null   uint8  \n 17  RETRAINING                  2075 non-null   uint8  \n 18  VACATION                    2075 non-null   uint8  \n 19  BANK                        2075 non-null   uint8  \n 20  NONE                        2075 non-null   uint8  \n 21  STORES                      2075 non-null   uint8  \n 22  AGE                         2075 non-null   float64\n 23  JOB_TYPE                    2075 non-null   float64\n 24  DEPENDENTS                  2075 non-null   float64\n 25  TELEPHONE                   2075 non-null   float64\n 26  FOREIGN_WORKER              2075 non-null   float64\n 27  EMPLOYMENT_DURATION         2075 non-null   float64\n 28  CURRENT_RESIDENCE_DURATION  2075 non-null   float64\n 29  F                           2075 non-null   uint8  \n 30  M                           2075 non-null   uint8  \n 31  CAR_OTHER                   2075 non-null   uint8  \n 32  REAL_ESTATE                 2075 non-null   uint8  \n 33  SAVINGS_INSURANCE           2075 non-null   uint8  \n 34  UNKNOWN                     2075 non-null   uint8  \n 35  FREE                        2075 non-null   uint8  \n 36  OWN                         2075 non-null   uint8  \n 37  RENT                        2075 non-null   uint8  \n 38  CHECKING_BALANCE            2075 non-null   float64\n 39  EXISTING_SAVINGS            2075 non-null   float64\n 40  EXISTING_CREDITS_COUNT      2075 non-null   float64\n 41  ALL_CREDITS_PAID_BACK       2075 non-null   uint8  \n 42  CREDITS_PAID_TO_DATE        2075 non-null   uint8  \n 43  NO_CREDITS                  2075 non-null   uint8  \n 44  OUTSTANDING_CREDIT          2075 non-null   uint8  \n 45  PRIOR_PAYMENTS_DELAYED      2075 non-null   uint8  \ndtypes: float64(13), int64(2), uint8(31)\nmemory usage: 322.2 KB\n"
                },
                {
                    "data": {
                        "text/plain": "Index(['ID', 'PAYMENT_TERM', 'INSTALLMENT_PERCENT', 'LOAN_AMOUNT', 'ALLOW',\n       'CO-APPLICANT', 'GUARANTOR', 'NONE', 'APPLIANCES', 'BUSINESS',\n       'CAR_NEW', 'CAR_USED', 'EDUCATION', 'FURNITURE', 'OTHER', 'RADIO_TV',\n       'REPAIRS', 'RETRAINING', 'VACATION', 'BANK', 'NONE', 'STORES', 'AGE',\n       'JOB_TYPE', 'DEPENDENTS', 'TELEPHONE', 'FOREIGN_WORKER',\n       'EMPLOYMENT_DURATION', 'CURRENT_RESIDENCE_DURATION', 'F', 'M',\n       'CAR_OTHER', 'REAL_ESTATE', 'SAVINGS_INSURANCE', 'UNKNOWN', 'FREE',\n       'OWN', 'RENT', 'CHECKING_BALANCE', 'EXISTING_SAVINGS',\n       'EXISTING_CREDITS_COUNT', 'ALL_CREDITS_PAID_BACK',\n       'CREDITS_PAID_TO_DATE', 'NO_CREDITS', 'OUTSTANDING_CREDIT',\n       'PRIOR_PAYMENTS_DELAYED'],\n      dtype='object')"
                    },
                    "execution_count": 11,
                    "metadata": {},
                    "output_type": "execute_result"
                }
            ],
            "source": "merged_inner = pd.merge(left=loans_clean_df,right=demographics_clean_df, left_on='ID', right_on='ID')\nmerged_inner = pd.merge(left=merged_inner,right=accounts_clean_df, left_on='ID', right_on='ID')\nmerged_inner.info()\nmerged_inner.columns"
        },
        {
            "cell_type": "code",
            "execution_count": 12,
            "metadata": {},
            "outputs": [
                {
                    "data": {
                        "text/html": "<div>\n<style scoped>\n    .dataframe tbody tr th:only-of-type {\n        vertical-align: middle;\n    }\n\n    .dataframe tbody tr th {\n        vertical-align: top;\n    }\n\n    .dataframe thead th {\n        text-align: right;\n    }\n</style>\n<table border=\"1\" class=\"dataframe\">\n  <thead>\n    <tr style=\"text-align: right;\">\n      <th></th>\n      <th>ID</th>\n      <th>PAYMENT_TERM</th>\n      <th>INSTALLMENT_PERCENT</th>\n      <th>LOAN_AMOUNT</th>\n      <th>ALLOW</th>\n      <th>CO-APPLICANT</th>\n      <th>GUARANTOR</th>\n      <th>NONE</th>\n      <th>APPLIANCES</th>\n      <th>BUSINESS</th>\n      <th>...</th>\n      <th>OWN</th>\n      <th>RENT</th>\n      <th>CHECKING_BALANCE</th>\n      <th>EXISTING_SAVINGS</th>\n      <th>EXISTING_CREDITS_COUNT</th>\n      <th>ALL_CREDITS_PAID_BACK</th>\n      <th>CREDITS_PAID_TO_DATE</th>\n      <th>NO_CREDITS</th>\n      <th>OUTSTANDING_CREDIT</th>\n      <th>PRIOR_PAYMENTS_DELAYED</th>\n    </tr>\n  </thead>\n  <tbody>\n    <tr>\n      <th>count</th>\n      <td>2.075000e+03</td>\n      <td>2075.000000</td>\n      <td>2075.000000</td>\n      <td>2075.00000</td>\n      <td>2075.000000</td>\n      <td>2075.000000</td>\n      <td>2075.000000</td>\n      <td>2075.000000</td>\n      <td>2075.000000</td>\n      <td>2075.000000</td>\n      <td>...</td>\n      <td>2075.000000</td>\n      <td>2075.000000</td>\n      <td>2075.000000</td>\n      <td>2075.000000</td>\n      <td>2075.000000</td>\n      <td>2075.000000</td>\n      <td>2075.000000</td>\n      <td>2075.000000</td>\n      <td>2075.000000</td>\n      <td>2075.000000</td>\n    </tr>\n    <tr>\n      <th>mean</th>\n      <td>6.700669e+05</td>\n      <td>632.766265</td>\n      <td>2.923855</td>\n      <td>3345.61494</td>\n      <td>0.675181</td>\n      <td>0.132530</td>\n      <td>0.021687</td>\n      <td>0.845783</td>\n      <td>0.107952</td>\n      <td>0.028434</td>\n      <td>...</td>\n      <td>0.642410</td>\n      <td>0.220241</td>\n      <td>316.353055</td>\n      <td>1349.751687</td>\n      <td>1.420241</td>\n      <td>0.162892</td>\n      <td>0.315181</td>\n      <td>0.026506</td>\n      <td>0.160482</td>\n      <td>0.334940</td>\n    </tr>\n    <tr>\n      <th>std</th>\n      <td>3.740689e+05</td>\n      <td>331.532267</td>\n      <td>1.098339</td>\n      <td>2468.81518</td>\n      <td>0.468420</td>\n      <td>0.339148</td>\n      <td>0.145694</td>\n      <td>0.361244</td>\n      <td>0.310394</td>\n      <td>0.166249</td>\n      <td>...</td>\n      <td>0.479406</td>\n      <td>0.414509</td>\n      <td>2225.861346</td>\n      <td>4759.334646</td>\n      <td>0.543015</td>\n      <td>0.369356</td>\n      <td>0.464700</td>\n      <td>0.160673</td>\n      <td>0.367141</td>\n      <td>0.472083</td>\n    </tr>\n    <tr>\n      <th>min</th>\n      <td>9.800000e+01</td>\n      <td>120.000000</td>\n      <td>1.000000</td>\n      <td>250.00000</td>\n      <td>0.000000</td>\n      <td>0.000000</td>\n      <td>0.000000</td>\n      <td>0.000000</td>\n      <td>0.000000</td>\n      <td>0.000000</td>\n      <td>...</td>\n      <td>0.000000</td>\n      <td>0.000000</td>\n      <td>-2797.250000</td>\n      <td>0.020000</td>\n      <td>1.000000</td>\n      <td>0.000000</td>\n      <td>0.000000</td>\n      <td>0.000000</td>\n      <td>0.000000</td>\n      <td>0.000000</td>\n    </tr>\n    <tr>\n      <th>25%</th>\n      <td>3.511160e+05</td>\n      <td>372.000000</td>\n      <td>2.000000</td>\n      <td>1237.00000</td>\n      <td>0.000000</td>\n      <td>0.000000</td>\n      <td>0.000000</td>\n      <td>1.000000</td>\n      <td>0.000000</td>\n      <td>0.000000</td>\n      <td>...</td>\n      <td>0.000000</td>\n      <td>0.000000</td>\n      <td>-61.955000</td>\n      <td>63.870000</td>\n      <td>1.000000</td>\n      <td>0.000000</td>\n      <td>0.000000</td>\n      <td>0.000000</td>\n      <td>0.000000</td>\n      <td>0.000000</td>\n    </tr>\n    <tr>\n      <th>50%</th>\n      <td>6.868660e+05</td>\n      <td>620.000000</td>\n      <td>3.000000</td>\n      <td>3030.00000</td>\n      <td>1.000000</td>\n      <td>0.000000</td>\n      <td>0.000000</td>\n      <td>1.000000</td>\n      <td>0.000000</td>\n      <td>0.000000</td>\n      <td>...</td>\n      <td>1.000000</td>\n      <td>0.000000</td>\n      <td>0.000000</td>\n      <td>262.920000</td>\n      <td>1.000000</td>\n      <td>0.000000</td>\n      <td>0.000000</td>\n      <td>0.000000</td>\n      <td>0.000000</td>\n      <td>0.000000</td>\n    </tr>\n    <tr>\n      <th>75%</th>\n      <td>9.863705e+05</td>\n      <td>869.000000</td>\n      <td>4.000000</td>\n      <td>5067.50000</td>\n      <td>1.000000</td>\n      <td>0.000000</td>\n      <td>0.000000</td>\n      <td>1.000000</td>\n      <td>0.000000</td>\n      <td>0.000000</td>\n      <td>...</td>\n      <td>1.000000</td>\n      <td>0.000000</td>\n      <td>44.975000</td>\n      <td>727.300000</td>\n      <td>2.000000</td>\n      <td>0.000000</td>\n      <td>1.000000</td>\n      <td>0.000000</td>\n      <td>0.000000</td>\n      <td>1.000000</td>\n    </tr>\n    <tr>\n      <th>max</th>\n      <td>1.319964e+06</td>\n      <td>1643.000000</td>\n      <td>6.000000</td>\n      <td>11676.00000</td>\n      <td>1.000000</td>\n      <td>1.000000</td>\n      <td>1.000000</td>\n      <td>1.000000</td>\n      <td>1.000000</td>\n      <td>1.000000</td>\n      <td>...</td>\n      <td>1.000000</td>\n      <td>1.000000</td>\n      <td>28041.160000</td>\n      <td>50177.310000</td>\n      <td>3.000000</td>\n      <td>1.000000</td>\n      <td>1.000000</td>\n      <td>1.000000</td>\n      <td>1.000000</td>\n      <td>1.000000</td>\n    </tr>\n  </tbody>\n</table>\n<p>8 rows \u00d7 46 columns</p>\n</div>",
                        "text/plain": "                 ID  PAYMENT_TERM  INSTALLMENT_PERCENT  LOAN_AMOUNT  \\\ncount  2.075000e+03   2075.000000          2075.000000   2075.00000   \nmean   6.700669e+05    632.766265             2.923855   3345.61494   \nstd    3.740689e+05    331.532267             1.098339   2468.81518   \nmin    9.800000e+01    120.000000             1.000000    250.00000   \n25%    3.511160e+05    372.000000             2.000000   1237.00000   \n50%    6.868660e+05    620.000000             3.000000   3030.00000   \n75%    9.863705e+05    869.000000             4.000000   5067.50000   \nmax    1.319964e+06   1643.000000             6.000000  11676.00000   \n\n             ALLOW  CO-APPLICANT    GUARANTOR         NONE   APPLIANCES  \\\ncount  2075.000000   2075.000000  2075.000000  2075.000000  2075.000000   \nmean      0.675181      0.132530     0.021687     0.845783     0.107952   \nstd       0.468420      0.339148     0.145694     0.361244     0.310394   \nmin       0.000000      0.000000     0.000000     0.000000     0.000000   \n25%       0.000000      0.000000     0.000000     1.000000     0.000000   \n50%       1.000000      0.000000     0.000000     1.000000     0.000000   \n75%       1.000000      0.000000     0.000000     1.000000     0.000000   \nmax       1.000000      1.000000     1.000000     1.000000     1.000000   \n\n          BUSINESS  ...          OWN         RENT  CHECKING_BALANCE  \\\ncount  2075.000000  ...  2075.000000  2075.000000       2075.000000   \nmean      0.028434  ...     0.642410     0.220241        316.353055   \nstd       0.166249  ...     0.479406     0.414509       2225.861346   \nmin       0.000000  ...     0.000000     0.000000      -2797.250000   \n25%       0.000000  ...     0.000000     0.000000        -61.955000   \n50%       0.000000  ...     1.000000     0.000000          0.000000   \n75%       0.000000  ...     1.000000     0.000000         44.975000   \nmax       1.000000  ...     1.000000     1.000000      28041.160000   \n\n       EXISTING_SAVINGS  EXISTING_CREDITS_COUNT  ALL_CREDITS_PAID_BACK  \\\ncount       2075.000000             2075.000000            2075.000000   \nmean        1349.751687                1.420241               0.162892   \nstd         4759.334646                0.543015               0.369356   \nmin            0.020000                1.000000               0.000000   \n25%           63.870000                1.000000               0.000000   \n50%          262.920000                1.000000               0.000000   \n75%          727.300000                2.000000               0.000000   \nmax        50177.310000                3.000000               1.000000   \n\n       CREDITS_PAID_TO_DATE   NO_CREDITS  OUTSTANDING_CREDIT  \\\ncount           2075.000000  2075.000000         2075.000000   \nmean               0.315181     0.026506            0.160482   \nstd                0.464700     0.160673            0.367141   \nmin                0.000000     0.000000            0.000000   \n25%                0.000000     0.000000            0.000000   \n50%                0.000000     0.000000            0.000000   \n75%                1.000000     0.000000            0.000000   \nmax                1.000000     1.000000            1.000000   \n\n       PRIOR_PAYMENTS_DELAYED  \ncount             2075.000000  \nmean                 0.334940  \nstd                  0.472083  \nmin                  0.000000  \n25%                  0.000000  \n50%                  0.000000  \n75%                  1.000000  \nmax                  1.000000  \n\n[8 rows x 46 columns]"
                    },
                    "execution_count": 12,
                    "metadata": {},
                    "output_type": "execute_result"
                }
            ],
            "source": "merged_inner.describe()"
        },
        {
            "cell_type": "code",
            "execution_count": 13,
            "metadata": {},
            "outputs": [
                {
                    "data": {
                        "text/plain": "<AxesSubplot:xlabel='ALLOW', ylabel='Count'>"
                    },
                    "execution_count": 13,
                    "metadata": {},
                    "output_type": "execute_result"
                },
                {
                    "data": {
                        "image/png": "[encoded data removed]",
                        "text/plain": "<Figure size 432x288 with 1 Axes>"
                    },
                    "metadata": {
                        "needs_background": "light"
                    },
                    "output_type": "display_data"
                }
            ],
            "source": "sns.histplot(merged_inner['ALLOW'])"
        },
        {
            "cell_type": "code",
            "execution_count": 14,
            "metadata": {},
            "outputs": [
                {
                    "name": "stdout",
                    "output_type": "stream",
                    "text": "[37.207491642654226, 1.759620352126633, 2.2998488043953573, 8.223155385629717, 7.881526588530023, 7.594157730925723, 7.2526671834230045, 6.556158119250105, 3.1714192302343243, 3.5477576679949996, 5.202976114857139, 4.768544603590124, 4.534676576388617]\n"
                }
            ],
            "source": "scaler = StandardScaler()\nscaled = scaler.fit_transform(\n    merged_inner[['PAYMENT_TERM', 'INSTALLMENT_PERCENT', 'LOAN_AMOUNT', 'AGE',\n       'JOB_TYPE', 'DEPENDENTS', 'TELEPHONE', 'FOREIGN_WORKER',\n       'EMPLOYMENT_DURATION', 'CURRENT_RESIDENCE_DURATION', 'CHECKING_BALANCE', 'EXISTING_SAVINGS',\n       'EXISTING_CREDITS_COUNT']].values\n    )\ncovariance_matrix = np.cov(scaled.T)\ncovariance_matrix\n\neigen_values, eigen_vectors = np.linalg.eig(covariance_matrix)\n\nvariance_explained = []\nfor i in eigen_values:\n    variance_explained.append((i/sum(eigen_values))*100)\n    \nprint(variance_explained)"
        },
        {
            "cell_type": "code",
            "execution_count": 15,
            "metadata": {},
            "outputs": [
                {
                    "name": "stdout",
                    "output_type": "stream",
                    "text": "Exactitud del modelo (n\u00famero de predicciones asertadas sobre el n\u00famero total de pruebas): 0.727710843373494\n0.727710843373494\n"
                }
            ],
            "source": "y = merged_inner['ALLOW']\nX = merged_inner[['PAYMENT_TERM', 'INSTALLMENT_PERCENT', 'LOAN_AMOUNT',\n       'CO-APPLICANT', 'GUARANTOR', 'NONE', 'APPLIANCES', 'BUSINESS',\n       'CAR_NEW', 'CAR_USED', 'EDUCATION', 'FURNITURE', 'OTHER', 'RADIO_TV',\n       'REPAIRS', 'RETRAINING', 'VACATION', 'BANK', 'NONE', 'STORES', 'AGE',\n       'JOB_TYPE', 'DEPENDENTS', 'TELEPHONE', 'FOREIGN_WORKER',\n       'EMPLOYMENT_DURATION', 'CURRENT_RESIDENCE_DURATION', 'F', 'M',\n       'CAR_OTHER', 'REAL_ESTATE', 'SAVINGS_INSURANCE', 'UNKNOWN', 'FREE',\n       'OWN', 'RENT', 'CHECKING_BALANCE', 'EXISTING_SAVINGS',\n       'EXISTING_CREDITS_COUNT', 'ALL_CREDITS_PAID_BACK',\n       'CREDITS_PAID_TO_DATE', 'NO_CREDITS', 'OUTSTANDING_CREDIT',\n       'PRIOR_PAYMENTS_DELAYED']]\nX_train, X_test, y_train, y_test = train_test_split(X, y, test_size=0.20, random_state=27)\narbol = DecisionTreeClassifier()\narbol.fit(X_train,y_train)\narbol.predict(X_test)\ny_pred = arbol.predict(X_test)\nacc = accuracy_score(y_test, y_pred)\nprint(f\"Exactitud del modelo (n\u00famero de predicciones asertadas sobre el n\u00famero total de pruebas): {acc}\")\nprint(arbol.score(X_test, y_test))"
        },
        {
            "cell_type": "code",
            "execution_count": 16,
            "metadata": {},
            "outputs": [
                {
                    "name": "stdout",
                    "output_type": "stream",
                    "text": "Requirement already satisfied: ibm-watson-machine-learning in /opt/conda/envs/Python-3.8-main/lib/python3.8/site-packages (1.0.173)\nRequirement already satisfied: requests in /opt/conda/envs/Python-3.8-main/lib/python3.8/site-packages (from ibm-watson-machine-learning) (2.25.1)\nRequirement already satisfied: importlib-resources in /opt/conda/envs/Python-3.8-main/lib/python3.8/site-packages (from ibm-watson-machine-learning) (5.4.0)\nRequirement already satisfied: ibm-cos-sdk==2.7.* in /opt/conda/envs/Python-3.8-main/lib/python3.8/site-packages (from ibm-watson-machine-learning) (2.7.0)\nRequirement already satisfied: urllib3 in /opt/conda/envs/Python-3.8-main/lib/python3.8/site-packages (from ibm-watson-machine-learning) (1.26.6)\nRequirement already satisfied: pandas<1.3.0,>=0.24.2 in /opt/conda/envs/Python-3.8-main/lib/python3.8/site-packages (from ibm-watson-machine-learning) (1.2.4)\nRequirement already satisfied: packaging in /opt/conda/envs/Python-3.8-main/lib/python3.8/site-packages (from ibm-watson-machine-learning) (20.9)\nRequirement already satisfied: tabulate in /opt/conda/envs/Python-3.8-main/lib/python3.8/site-packages (from ibm-watson-machine-learning) (0.8.9)\nRequirement already satisfied: certifi in /opt/conda/envs/Python-3.8-main/lib/python3.8/site-packages (from ibm-watson-machine-learning) (2021.10.8)\nRequirement already satisfied: lomond in /opt/conda/envs/Python-3.8-main/lib/python3.8/site-packages (from ibm-watson-machine-learning) (0.3.3)\nRequirement already satisfied: jmespath<1.0.0,>=0.7.1 in /opt/conda/envs/Python-3.8-main/lib/python3.8/site-packages (from ibm-cos-sdk==2.7.*->ibm-watson-machine-learning) (0.10.0)\nRequirement already satisfied: ibm-cos-sdk-s3transfer==2.7.0 in /opt/conda/envs/Python-3.8-main/lib/python3.8/site-packages (from ibm-cos-sdk==2.7.*->ibm-watson-machine-learning) (2.7.0)\nRequirement already satisfied: ibm-cos-sdk-core==2.7.0 in /opt/conda/envs/Python-3.8-main/lib/python3.8/site-packages (from ibm-cos-sdk==2.7.*->ibm-watson-machine-learning) (2.7.0)\nRequirement already satisfied: python-dateutil<3.0.0,>=2.1 in /opt/conda/envs/Python-3.8-main/lib/python3.8/site-packages (from ibm-cos-sdk-core==2.7.0->ibm-cos-sdk==2.7.*->ibm-watson-machine-learning) (2.8.1)\nRequirement already satisfied: docutils<0.16,>=0.10 in /opt/conda/envs/Python-3.8-main/lib/python3.8/site-packages (from ibm-cos-sdk-core==2.7.0->ibm-cos-sdk==2.7.*->ibm-watson-machine-learning) (0.15.2)\nRequirement already satisfied: pytz>=2017.3 in /opt/conda/envs/Python-3.8-main/lib/python3.8/site-packages (from pandas<1.3.0,>=0.24.2->ibm-watson-machine-learning) (2021.1)\nRequirement already satisfied: numpy>=1.16.5 in /opt/conda/envs/Python-3.8-main/lib/python3.8/site-packages (from pandas<1.3.0,>=0.24.2->ibm-watson-machine-learning) (1.19.2)\nRequirement already satisfied: six>=1.5 in /opt/conda/envs/Python-3.8-main/lib/python3.8/site-packages (from python-dateutil<3.0.0,>=2.1->ibm-cos-sdk-core==2.7.0->ibm-cos-sdk==2.7.*->ibm-watson-machine-learning) (1.15.0)\nRequirement already satisfied: chardet<5,>=3.0.2 in /opt/conda/envs/Python-3.8-main/lib/python3.8/site-packages (from requests->ibm-watson-machine-learning) (3.0.4)\nRequirement already satisfied: idna<3,>=2.5 in /opt/conda/envs/Python-3.8-main/lib/python3.8/site-packages (from requests->ibm-watson-machine-learning) (2.8)\nRequirement already satisfied: zipp>=3.1.0 in /opt/conda/envs/Python-3.8-main/lib/python3.8/site-packages (from importlib-resources->ibm-watson-machine-learning) (3.4.1)\nRequirement already satisfied: pyparsing>=2.0.2 in /opt/conda/envs/Python-3.8-main/lib/python3.8/site-packages (from packaging->ibm-watson-machine-learning) (2.4.7)\n"
                }
            ],
            "source": "# Instalar la biblioteca WML\n!pip install -U ibm-watson-machine-learning"
        },
        {
            "cell_type": "code",
            "execution_count": 17,
            "metadata": {},
            "outputs": [],
            "source": "from ibm_watson_machine_learning import APIClient"
        },
        {
            "cell_type": "code",
            "execution_count": 18,
            "metadata": {},
            "outputs": [],
            "source": "api_key = ''\nlocation = 'us-south' # En caso de WML estar en una regi\u00f3n diferente, altere esta linea\n\nwml_credentials = {\n    \"apikey\": api_key,\n    \"url\": 'https://' + location + '.ml.cloud.ibm.com'\n}\n\nclient = APIClient(wml_credentials)"
        },
        {
            "cell_type": "code",
            "execution_count": 19,
            "metadata": {},
            "outputs": [
                {
                    "name": "stdout",
                    "output_type": "stream",
                    "text": "------------------------------------  --------  ------------------------\nID                                    NAME      CREATED\na3f67111-4122-4120-b047-156774869978  desafio1  2021-11-17T14:01:46.256Z\n------------------------------------  --------  ------------------------\n"
                }
            ],
            "source": "# Lista espacios creados en su instancia de WML\nclient.spaces.list(limit=10)"
        },
        {
            "cell_type": "code",
            "execution_count": 20,
            "metadata": {},
            "outputs": [
                {
                    "data": {
                        "text/plain": "'SUCCESS'"
                    },
                    "execution_count": 20,
                    "metadata": {},
                    "output_type": "execute_result"
                }
            ],
            "source": "space_id = 'a3f67111-4122-4120-b047-156774869978'\nclient.set.default_space(space_id)"
        },
        {
            "cell_type": "code",
            "execution_count": 21,
            "metadata": {},
            "outputs": [
                {
                    "name": "stdout",
                    "output_type": "stream",
                    "text": "------------------------------------  --------  ------------------------\nID                                    NAME      CREATED\na3f67111-4122-4120-b047-156774869978  desafio1  2021-11-17T14:01:46.256Z\n------------------------------------  --------  ------------------------\n"
                }
            ],
            "source": "client.spaces.list(limit=10)"
        },
        {
            "cell_type": "code",
            "execution_count": 22,
            "metadata": {},
            "outputs": [],
            "source": "base_sw_spec_uid = client.software_specifications.get_uid_by_name(\"default_py3.8\")\n"
        },
        {
            "cell_type": "code",
            "execution_count": null,
            "metadata": {},
            "outputs": [],
            "source": ""
        }
    ],
    "metadata": {
        "kernelspec": {
            "display_name": "Python 3.8",
            "language": "python",
            "name": "python3"
        },
        "language_info": {
            "codemirror_mode": {
                "name": "ipython",
                "version": 3
            },
            "file_extension": ".py",
            "mimetype": "text/x-python",
            "name": "python",
            "nbconvert_exporter": "python",
            "pygments_lexer": "ipython3",
            "version": "3.8.12"
        }
    },
    "nbformat": 4,
    "nbformat_minor": 1
}
