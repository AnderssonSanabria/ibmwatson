{
    "cells": [
        {
            "cell_type": "code",
            "execution_count": 1,
            "metadata": {},
            "outputs": [],
            "source": "import pandas as pd\nimport numpy as np\nimport matplotlib.pyplot as plt\nimport seaborn as sns\nfrom sklearn.preprocessing import StandardScaler \nfrom sklearn.model_selection import train_test_split\nfrom sklearn.tree import DecisionTreeClassifier\nfrom sklearn.ensemble import RandomForestRegressor\nfrom sklearn.metrics import accuracy_score\nfrom sklearn.base import BaseEstimator, TransformerMixin\nfrom sklearn.pipeline import Pipeline\n\n"
        },
        {
            "cell_type": "code",
            "execution_count": 2,
            "metadata": {},
            "outputs": [
                {
                    "data": {
                        "text/html": "<div>\n<style scoped>\n    .dataframe tbody tr th:only-of-type {\n        vertical-align: middle;\n    }\n\n    .dataframe tbody tr th {\n        vertical-align: top;\n    }\n\n    .dataframe thead th {\n        text-align: right;\n    }\n</style>\n<table border=\"1\" class=\"dataframe\">\n  <thead>\n    <tr style=\"text-align: right;\">\n      <th></th>\n      <th>ID</th>\n      <th>PAYMENT_TERM</th>\n      <th>INSTALLMENT_PLANS</th>\n      <th>INSTALLMENT_PERCENT</th>\n      <th>LOAN_PURPOSE</th>\n      <th>LOAN_AMOUNT</th>\n      <th>OTHERS_ON_LOAN</th>\n      <th>ALLOW</th>\n    </tr>\n  </thead>\n  <tbody>\n    <tr>\n      <th>0</th>\n      <td>610339</td>\n      <td>713.0</td>\n      <td>STORES</td>\n      <td>3.0</td>\n      <td>CAR_USED</td>\n      <td>3103.0</td>\n      <td>NONE</td>\n      <td>1</td>\n    </tr>\n    <tr>\n      <th>1</th>\n      <td>109167</td>\n      <td>341.0</td>\n      <td>STORES</td>\n      <td>1.0</td>\n      <td>CAR_NEW</td>\n      <td>716.0</td>\n      <td>NONE</td>\n      <td>1</td>\n    </tr>\n    <tr>\n      <th>2</th>\n      <td>823322</td>\n      <td>868.0</td>\n      <td>NONE</td>\n      <td>4.0</td>\n      <td>APPLIANCES</td>\n      <td>4333.0</td>\n      <td>NONE</td>\n      <td>1</td>\n    </tr>\n    <tr>\n      <th>3</th>\n      <td>322224</td>\n      <td>310.0</td>\n      <td>STORES</td>\n      <td>2.0</td>\n      <td>FURNITURE</td>\n      <td>250.0</td>\n      <td>NONE</td>\n      <td>1</td>\n    </tr>\n    <tr>\n      <th>4</th>\n      <td>912693</td>\n      <td>620.0</td>\n      <td>NONE</td>\n      <td>2.0</td>\n      <td>CAR_USED</td>\n      <td>2454.0</td>\n      <td>NONE</td>\n      <td>0</td>\n    </tr>\n  </tbody>\n</table>\n</div>",
                        "text/plain": "       ID  PAYMENT_TERM INSTALLMENT_PLANS  INSTALLMENT_PERCENT LOAN_PURPOSE  \\\n0  610339         713.0            STORES                  3.0     CAR_USED   \n1  109167         341.0            STORES                  1.0      CAR_NEW   \n2  823322         868.0              NONE                  4.0   APPLIANCES   \n3  322224         310.0            STORES                  2.0    FURNITURE   \n4  912693         620.0              NONE                  2.0     CAR_USED   \n\n   LOAN_AMOUNT OTHERS_ON_LOAN  ALLOW  \n0       3103.0           NONE      1  \n1        716.0           NONE      1  \n2       4333.0           NONE      1  \n3        250.0           NONE      1  \n4       2454.0           NONE      0  "
                    },
                    "execution_count": 2,
                    "metadata": {},
                    "output_type": "execute_result"
                }
            ],
            "source": "# The code was removed by Watson Studio for sharing."
        },
        {
            "cell_type": "code",
            "execution_count": 3,
            "metadata": {},
            "outputs": [
                {
                    "data": {
                        "text/html": "<div>\n<style scoped>\n    .dataframe tbody tr th:only-of-type {\n        vertical-align: middle;\n    }\n\n    .dataframe tbody tr th {\n        vertical-align: top;\n    }\n\n    .dataframe thead th {\n        text-align: right;\n    }\n</style>\n<table border=\"1\" class=\"dataframe\">\n  <thead>\n    <tr style=\"text-align: right;\">\n      <th></th>\n      <th>ID</th>\n      <th>SEX</th>\n      <th>AGE</th>\n      <th>JOB_TYPE</th>\n      <th>DEPENDENTS</th>\n      <th>TELEPHONE</th>\n      <th>FOREIGN_WORKER</th>\n      <th>EMPLOYMENT_DURATION</th>\n      <th>PROPERTY</th>\n      <th>HOUSING</th>\n      <th>CURRENT_RESIDENCE_DURATION</th>\n    </tr>\n  </thead>\n  <tbody>\n    <tr>\n      <th>0</th>\n      <td>24252</td>\n      <td>M</td>\n      <td>47.0</td>\n      <td>3.0</td>\n      <td>1.0</td>\n      <td>0.0</td>\n      <td>1.0</td>\n      <td>14.0</td>\n      <td>SAVINGS_INSURANCE</td>\n      <td>OWN</td>\n      <td>3.0</td>\n    </tr>\n    <tr>\n      <th>1</th>\n      <td>1002018</td>\n      <td>M</td>\n      <td>19.0</td>\n      <td>3.0</td>\n      <td>1.0</td>\n      <td>0.0</td>\n      <td>1.0</td>\n      <td>0.0</td>\n      <td>SAVINGS_INSURANCE</td>\n      <td>RENT</td>\n      <td>2.0</td>\n    </tr>\n    <tr>\n      <th>2</th>\n      <td>1240455</td>\n      <td>F</td>\n      <td>50.0</td>\n      <td>2.0</td>\n      <td>1.0</td>\n      <td>1.0</td>\n      <td>1.0</td>\n      <td>7.0</td>\n      <td>UNKNOWN</td>\n      <td>OWN</td>\n      <td>3.0</td>\n    </tr>\n    <tr>\n      <th>3</th>\n      <td>107799</td>\n      <td>M</td>\n      <td>35.0</td>\n      <td>3.0</td>\n      <td>1.0</td>\n      <td>0.0</td>\n      <td>1.0</td>\n      <td>0.0</td>\n      <td>REAL_ESTATE</td>\n      <td>OWN</td>\n      <td>2.0</td>\n    </tr>\n    <tr>\n      <th>4</th>\n      <td>184883</td>\n      <td>M</td>\n      <td>40.0</td>\n      <td>1.0</td>\n      <td>1.0</td>\n      <td>0.0</td>\n      <td>1.0</td>\n      <td>9.0</td>\n      <td>CAR_OTHER</td>\n      <td>OWN</td>\n      <td>4.0</td>\n    </tr>\n  </tbody>\n</table>\n</div>",
                        "text/plain": "        ID SEX   AGE  JOB_TYPE  DEPENDENTS  TELEPHONE  FOREIGN_WORKER  \\\n0    24252   M  47.0       3.0         1.0        0.0             1.0   \n1  1002018   M  19.0       3.0         1.0        0.0             1.0   \n2  1240455   F  50.0       2.0         1.0        1.0             1.0   \n3   107799   M  35.0       3.0         1.0        0.0             1.0   \n4   184883   M  40.0       1.0         1.0        0.0             1.0   \n\n   EMPLOYMENT_DURATION           PROPERTY HOUSING  CURRENT_RESIDENCE_DURATION  \n0                 14.0  SAVINGS_INSURANCE     OWN                         3.0  \n1                  0.0  SAVINGS_INSURANCE    RENT                         2.0  \n2                  7.0            UNKNOWN     OWN                         3.0  \n3                  0.0        REAL_ESTATE     OWN                         2.0  \n4                  9.0          CAR_OTHER     OWN                         4.0  "
                    },
                    "execution_count": 3,
                    "metadata": {},
                    "output_type": "execute_result"
                }
            ],
            "source": "\nbody = client_51ac9752a63648d2959e66f034dfa6f3.get_object(Bucket='desafio1-donotdelete-pr-kz3ec0aucx4ash',Key='DEMOGRAPHICS.csv')['Body']\n# add missing __iter__ method, so pandas accepts body as file-like object\nif not hasattr(body, \"__iter__\"): body.__iter__ = types.MethodType( __iter__, body )\n\ndf_data_2 = pd.read_csv(body)\ndf_data_2.head()\n"
        },
        {
            "cell_type": "code",
            "execution_count": 4,
            "metadata": {},
            "outputs": [
                {
                    "data": {
                        "text/html": "<div>\n<style scoped>\n    .dataframe tbody tr th:only-of-type {\n        vertical-align: middle;\n    }\n\n    .dataframe tbody tr th {\n        vertical-align: top;\n    }\n\n    .dataframe thead th {\n        text-align: right;\n    }\n</style>\n<table border=\"1\" class=\"dataframe\">\n  <thead>\n    <tr style=\"text-align: right;\">\n      <th></th>\n      <th>ID</th>\n      <th>CHECKING_BALANCE</th>\n      <th>CREDIT_HISTORY</th>\n      <th>EXISTING_SAVINGS</th>\n      <th>EXISTING_CREDITS_COUNT</th>\n    </tr>\n  </thead>\n  <tbody>\n    <tr>\n      <th>0</th>\n      <td>291655</td>\n      <td>-566.53</td>\n      <td>ALL_CREDITS_PAID_BACK</td>\n      <td>36.42</td>\n      <td>1.0</td>\n    </tr>\n    <tr>\n      <th>1</th>\n      <td>657079</td>\n      <td>-1673.16</td>\n      <td>CREDITS_PAID_TO_DATE</td>\n      <td>22.9</td>\n      <td>1.0</td>\n    </tr>\n    <tr>\n      <th>2</th>\n      <td>256050</td>\n      <td>NO_CHECKING</td>\n      <td>CREDITS_PAID_TO_DATE</td>\n      <td>450.35</td>\n      <td>2.0</td>\n    </tr>\n    <tr>\n      <th>3</th>\n      <td>1039151</td>\n      <td>-1471.03</td>\n      <td>PRIOR_PAYMENTS_DELAYED</td>\n      <td>805.71</td>\n      <td>2.0</td>\n    </tr>\n    <tr>\n      <th>4</th>\n      <td>1002660</td>\n      <td>NO_CHECKING</td>\n      <td>CREDITS_PAID_TO_DATE</td>\n      <td>295.03</td>\n      <td>1.0</td>\n    </tr>\n  </tbody>\n</table>\n</div>",
                        "text/plain": "        ID CHECKING_BALANCE          CREDIT_HISTORY EXISTING_SAVINGS  \\\n0   291655          -566.53   ALL_CREDITS_PAID_BACK            36.42   \n1   657079         -1673.16    CREDITS_PAID_TO_DATE             22.9   \n2   256050      NO_CHECKING    CREDITS_PAID_TO_DATE           450.35   \n3  1039151         -1471.03  PRIOR_PAYMENTS_DELAYED           805.71   \n4  1002660      NO_CHECKING    CREDITS_PAID_TO_DATE           295.03   \n\n   EXISTING_CREDITS_COUNT  \n0                     1.0  \n1                     1.0  \n2                     2.0  \n3                     2.0  \n4                     1.0  "
                    },
                    "execution_count": 4,
                    "metadata": {},
                    "output_type": "execute_result"
                }
            ],
            "source": "\nbody = client_51ac9752a63648d2959e66f034dfa6f3.get_object(Bucket='desafio1-donotdelete-pr-kz3ec0aucx4ash',Key='ACCOUNTS.csv')['Body']\n# add missing __iter__ method, so pandas accepts body as file-like object\nif not hasattr(body, \"__iter__\"): body.__iter__ = types.MethodType( __iter__, body )\n\ndf_data_3 = pd.read_csv(body)\ndf_data_3.head()\n"
        },
        {
            "cell_type": "code",
            "execution_count": 5,
            "metadata": {},
            "outputs": [
                {
                    "name": "stdout",
                    "output_type": "stream",
                    "text": "<class 'pandas.core.frame.DataFrame'>\nRangeIndex: 3999 entries, 0 to 3998\nData columns (total 8 columns):\n #   Column               Non-Null Count  Dtype  \n---  ------               --------------  -----  \n 0   ID                   3999 non-null   int64  \n 1   PAYMENT_TERM         3975 non-null   float64\n 2   INSTALLMENT_PLANS    3978 non-null   object \n 3   INSTALLMENT_PERCENT  3974 non-null   float64\n 4   LOAN_PURPOSE         3979 non-null   object \n 5   LOAN_AMOUNT          3981 non-null   float64\n 6   OTHERS_ON_LOAN       3977 non-null   object \n 7   ALLOW                3999 non-null   int64  \ndtypes: float64(3), int64(2), object(3)\nmemory usage: 250.1+ KB\n"
                },
                {
                    "data": {
                        "image/png": "[encoded data removed]",
                        "text/plain": "<Figure size 432x288 with 1 Axes>"
                    },
                    "metadata": {
                        "needs_background": "light"
                    },
                    "output_type": "display_data"
                }
            ],
            "source": "loans = df_data_1\nloans.info()\nloans.describe()\nrisk_plot = sns.countplot(data=loans, x='ALLOW', order=loans['ALLOW'].value_counts().index)\nplt.show()"
        },
        {
            "cell_type": "code",
            "execution_count": 6,
            "metadata": {
                "scrolled": true
            },
            "outputs": [
                {
                    "name": "stdout",
                    "output_type": "stream",
                    "text": "<class 'pandas.core.frame.DataFrame'>\nRangeIndex: 3936 entries, 0 to 3935\nData columns (total 11 columns):\n #   Column                      Non-Null Count  Dtype  \n---  ------                      --------------  -----  \n 0   ID                          3936 non-null   int64  \n 1   SEX                         3920 non-null   object \n 2   AGE                         3918 non-null   float64\n 3   JOB_TYPE                    3910 non-null   float64\n 4   DEPENDENTS                  3915 non-null   float64\n 5   TELEPHONE                   3915 non-null   float64\n 6   FOREIGN_WORKER              3909 non-null   float64\n 7   EMPLOYMENT_DURATION         3923 non-null   float64\n 8   PROPERTY                    3918 non-null   object \n 9   HOUSING                     3912 non-null   object \n 10  CURRENT_RESIDENCE_DURATION  3917 non-null   float64\ndtypes: float64(7), int64(1), object(3)\nmemory usage: 338.4+ KB\n"
                },
                {
                    "data": {
                        "text/html": "<div>\n<style scoped>\n    .dataframe tbody tr th:only-of-type {\n        vertical-align: middle;\n    }\n\n    .dataframe tbody tr th {\n        vertical-align: top;\n    }\n\n    .dataframe thead th {\n        text-align: right;\n    }\n</style>\n<table border=\"1\" class=\"dataframe\">\n  <thead>\n    <tr style=\"text-align: right;\">\n      <th></th>\n      <th>ID</th>\n      <th>AGE</th>\n      <th>JOB_TYPE</th>\n      <th>DEPENDENTS</th>\n      <th>TELEPHONE</th>\n      <th>FOREIGN_WORKER</th>\n      <th>EMPLOYMENT_DURATION</th>\n      <th>CURRENT_RESIDENCE_DURATION</th>\n    </tr>\n  </thead>\n  <tbody>\n    <tr>\n      <th>count</th>\n      <td>3.936000e+03</td>\n      <td>3918.000000</td>\n      <td>3910.000000</td>\n      <td>3915.000000</td>\n      <td>3915.000000</td>\n      <td>3909.000000</td>\n      <td>3923.000000</td>\n      <td>3917.000000</td>\n    </tr>\n    <tr>\n      <th>mean</th>\n      <td>6.614226e+05</td>\n      <td>36.032925</td>\n      <td>2.429923</td>\n      <td>1.161175</td>\n      <td>0.412005</td>\n      <td>0.975697</td>\n      <td>4.238848</td>\n      <td>2.865458</td>\n    </tr>\n    <tr>\n      <th>std</th>\n      <td>3.731249e+05</td>\n      <td>10.617743</td>\n      <td>0.931842</td>\n      <td>0.367739</td>\n      <td>0.492259</td>\n      <td>0.154008</td>\n      <td>3.595680</td>\n      <td>1.115873</td>\n    </tr>\n    <tr>\n      <th>min</th>\n      <td>9.800000e+01</td>\n      <td>19.000000</td>\n      <td>0.000000</td>\n      <td>1.000000</td>\n      <td>0.000000</td>\n      <td>0.000000</td>\n      <td>0.000000</td>\n      <td>1.000000</td>\n    </tr>\n    <tr>\n      <th>25%</th>\n      <td>3.427448e+05</td>\n      <td>28.000000</td>\n      <td>2.000000</td>\n      <td>1.000000</td>\n      <td>0.000000</td>\n      <td>1.000000</td>\n      <td>1.000000</td>\n      <td>2.000000</td>\n    </tr>\n    <tr>\n      <th>50%</th>\n      <td>6.679115e+05</td>\n      <td>36.000000</td>\n      <td>3.000000</td>\n      <td>1.000000</td>\n      <td>0.000000</td>\n      <td>1.000000</td>\n      <td>4.000000</td>\n      <td>3.000000</td>\n    </tr>\n    <tr>\n      <th>75%</th>\n      <td>9.794970e+05</td>\n      <td>44.000000</td>\n      <td>3.000000</td>\n      <td>1.000000</td>\n      <td>1.000000</td>\n      <td>1.000000</td>\n      <td>7.000000</td>\n      <td>4.000000</td>\n    </tr>\n    <tr>\n      <th>max</th>\n      <td>1.320082e+06</td>\n      <td>74.000000</td>\n      <td>3.000000</td>\n      <td>2.000000</td>\n      <td>1.000000</td>\n      <td>1.000000</td>\n      <td>18.000000</td>\n      <td>6.000000</td>\n    </tr>\n  </tbody>\n</table>\n</div>",
                        "text/plain": "                 ID          AGE     JOB_TYPE   DEPENDENTS    TELEPHONE  \\\ncount  3.936000e+03  3918.000000  3910.000000  3915.000000  3915.000000   \nmean   6.614226e+05    36.032925     2.429923     1.161175     0.412005   \nstd    3.731249e+05    10.617743     0.931842     0.367739     0.492259   \nmin    9.800000e+01    19.000000     0.000000     1.000000     0.000000   \n25%    3.427448e+05    28.000000     2.000000     1.000000     0.000000   \n50%    6.679115e+05    36.000000     3.000000     1.000000     0.000000   \n75%    9.794970e+05    44.000000     3.000000     1.000000     1.000000   \nmax    1.320082e+06    74.000000     3.000000     2.000000     1.000000   \n\n       FOREIGN_WORKER  EMPLOYMENT_DURATION  CURRENT_RESIDENCE_DURATION  \ncount     3909.000000          3923.000000                 3917.000000  \nmean         0.975697             4.238848                    2.865458  \nstd          0.154008             3.595680                    1.115873  \nmin          0.000000             0.000000                    1.000000  \n25%          1.000000             1.000000                    2.000000  \n50%          1.000000             4.000000                    3.000000  \n75%          1.000000             7.000000                    4.000000  \nmax          1.000000            18.000000                    6.000000  "
                    },
                    "execution_count": 6,
                    "metadata": {},
                    "output_type": "execute_result"
                }
            ],
            "source": "demographics = df_data_2\ndemographics.info()\ndemographics.describe()\n"
        },
        {
            "cell_type": "code",
            "execution_count": 7,
            "metadata": {},
            "outputs": [
                {
                    "name": "stdout",
                    "output_type": "stream",
                    "text": "<class 'pandas.core.frame.DataFrame'>\nRangeIndex: 2477 entries, 0 to 2476\nData columns (total 5 columns):\n #   Column                  Non-Null Count  Dtype  \n---  ------                  --------------  -----  \n 0   ID                      2477 non-null   int64  \n 1   CHECKING_BALANCE        2467 non-null   object \n 2   CREDIT_HISTORY          2462 non-null   object \n 3   EXISTING_SAVINGS        2467 non-null   object \n 4   EXISTING_CREDITS_COUNT  2463 non-null   float64\ndtypes: float64(1), int64(1), object(3)\nmemory usage: 96.9+ KB\n"
                },
                {
                    "data": {
                        "text/html": "<div>\n<style scoped>\n    .dataframe tbody tr th:only-of-type {\n        vertical-align: middle;\n    }\n\n    .dataframe tbody tr th {\n        vertical-align: top;\n    }\n\n    .dataframe thead th {\n        text-align: right;\n    }\n</style>\n<table border=\"1\" class=\"dataframe\">\n  <thead>\n    <tr style=\"text-align: right;\">\n      <th></th>\n      <th>ID</th>\n      <th>EXISTING_CREDITS_COUNT</th>\n    </tr>\n  </thead>\n  <tbody>\n    <tr>\n      <th>count</th>\n      <td>2.477000e+03</td>\n      <td>2463.000000</td>\n    </tr>\n    <tr>\n      <th>mean</th>\n      <td>6.683799e+05</td>\n      <td>1.469752</td>\n    </tr>\n    <tr>\n      <th>std</th>\n      <td>3.730570e+05</td>\n      <td>0.569142</td>\n    </tr>\n    <tr>\n      <th>min</th>\n      <td>9.800000e+01</td>\n      <td>1.000000</td>\n    </tr>\n    <tr>\n      <th>25%</th>\n      <td>3.521920e+05</td>\n      <td>1.000000</td>\n    </tr>\n    <tr>\n      <th>50%</th>\n      <td>6.809460e+05</td>\n      <td>1.000000</td>\n    </tr>\n    <tr>\n      <th>75%</th>\n      <td>9.857560e+05</td>\n      <td>2.000000</td>\n    </tr>\n    <tr>\n      <th>max</th>\n      <td>1.319964e+06</td>\n      <td>3.000000</td>\n    </tr>\n  </tbody>\n</table>\n</div>",
                        "text/plain": "                 ID  EXISTING_CREDITS_COUNT\ncount  2.477000e+03             2463.000000\nmean   6.683799e+05                1.469752\nstd    3.730570e+05                0.569142\nmin    9.800000e+01                1.000000\n25%    3.521920e+05                1.000000\n50%    6.809460e+05                1.000000\n75%    9.857560e+05                2.000000\nmax    1.319964e+06                3.000000"
                    },
                    "execution_count": 7,
                    "metadata": {},
                    "output_type": "execute_result"
                }
            ],
            "source": "accounts = df_data_3\naccounts.info()\naccounts.describe()"
        },
        {
            "cell_type": "code",
            "execution_count": 8,
            "metadata": {},
            "outputs": [
                {
                    "data": {
                        "text/html": "<div>\n<style scoped>\n    .dataframe tbody tr th:only-of-type {\n        vertical-align: middle;\n    }\n\n    .dataframe tbody tr th {\n        vertical-align: top;\n    }\n\n    .dataframe thead th {\n        text-align: right;\n    }\n</style>\n<table border=\"1\" class=\"dataframe\">\n  <thead>\n    <tr style=\"text-align: right;\">\n      <th></th>\n      <th>ID</th>\n      <th>PAYMENT_TERM</th>\n      <th>INSTALLMENT_PLANS</th>\n      <th>INSTALLMENT_PERCENT</th>\n      <th>LOAN_PURPOSE</th>\n      <th>LOAN_AMOUNT</th>\n      <th>OTHERS_ON_LOAN</th>\n      <th>ALLOW</th>\n    </tr>\n  </thead>\n  <tbody>\n    <tr>\n      <th>0</th>\n      <td>610339</td>\n      <td>713.0</td>\n      <td>STORES</td>\n      <td>3.0</td>\n      <td>CAR_USED</td>\n      <td>3103.0</td>\n      <td>NONE</td>\n      <td>1</td>\n    </tr>\n    <tr>\n      <th>1</th>\n      <td>109167</td>\n      <td>341.0</td>\n      <td>STORES</td>\n      <td>1.0</td>\n      <td>CAR_NEW</td>\n      <td>716.0</td>\n      <td>NONE</td>\n      <td>1</td>\n    </tr>\n    <tr>\n      <th>2</th>\n      <td>823322</td>\n      <td>868.0</td>\n      <td>NONE</td>\n      <td>4.0</td>\n      <td>APPLIANCES</td>\n      <td>4333.0</td>\n      <td>NONE</td>\n      <td>1</td>\n    </tr>\n    <tr>\n      <th>3</th>\n      <td>322224</td>\n      <td>310.0</td>\n      <td>STORES</td>\n      <td>2.0</td>\n      <td>FURNITURE</td>\n      <td>250.0</td>\n      <td>NONE</td>\n      <td>1</td>\n    </tr>\n    <tr>\n      <th>4</th>\n      <td>912693</td>\n      <td>620.0</td>\n      <td>NONE</td>\n      <td>2.0</td>\n      <td>CAR_USED</td>\n      <td>2454.0</td>\n      <td>NONE</td>\n      <td>0</td>\n    </tr>\n  </tbody>\n</table>\n</div>",
                        "text/plain": "       ID  PAYMENT_TERM INSTALLMENT_PLANS  INSTALLMENT_PERCENT LOAN_PURPOSE  \\\n0  610339         713.0            STORES                  3.0     CAR_USED   \n1  109167         341.0            STORES                  1.0      CAR_NEW   \n2  823322         868.0              NONE                  4.0   APPLIANCES   \n3  322224         310.0            STORES                  2.0    FURNITURE   \n4  912693         620.0              NONE                  2.0     CAR_USED   \n\n   LOAN_AMOUNT OTHERS_ON_LOAN  ALLOW  \n0       3103.0           NONE      1  \n1        716.0           NONE      1  \n2       4333.0           NONE      1  \n3        250.0           NONE      1  \n4       2454.0           NONE      0  "
                    },
                    "execution_count": 8,
                    "metadata": {},
                    "output_type": "execute_result"
                }
            ],
            "source": "clean_df = loans.dropna()\n#INSTALLMENT_PLANS_CAT=pd.get_dummies(clean_df['INSTALLMENT_PLANS'])\n#LOAN_PURPOSE_CAT=pd.get_dummies(clean_df['LOAN_PURPOSE'])\n#OTHERS_ON_LOAN_CAT=pd.get_dummies(clean_df['OTHERS_ON_LOAN'])\nclean_df.head()\n#clean_df =pd.concat((clean_df,OTHERS_ON_LOAN_CAT,LOAN_PURPOSE_CAT,INSTALLMENT_PLANS_CAT), axis=1)\n#loans_clean_df=clean_df.drop(['INSTALLMENT_PLANS','LOAN_PURPOSE','OTHERS_ON_LOAN'], axis=1)"
        },
        {
            "cell_type": "code",
            "execution_count": 9,
            "metadata": {},
            "outputs": [],
            "source": "clean_df2 = demographics.dropna()\n#SEX=pd.get_dummies(clean_df2['SEX'])\n#PROPERTY_CAT=pd.get_dummies(clean_df2['PROPERTY'])\n#HOUSING_CAT=pd.get_dummies(clean_df2['HOUSING'])\n#clean_df2 =pd.concat((clean_df2,SEX,PROPERTY_CAT,HOUSING_CAT), axis=1)\n#demographics_clean_df=clean_df2.drop(['PROPERTY','HOUSING','SEX'], axis=1)"
        },
        {
            "cell_type": "code",
            "execution_count": 10,
            "metadata": {
                "scrolled": true
            },
            "outputs": [],
            "source": "clean_df3 = accounts.dropna()\n#clean_df3 = clean_df3.drop(clean_df3[clean_df3['EXISTING_SAVINGS']=='UNKNOWN'].index)\n#clean_df3['CHECKING_BALANCE']= clean_df3['CHECKING_BALANCE'].replace('NO_CHECKING','0')\n#clean_df3['CHECKING_BALANCE'] = pd.to_numeric(clean_df3['CHECKING_BALANCE'],errors = 'coerce')\n#clean_df3['EXISTING_SAVINGS'] = pd.to_numeric(clean_df3['EXISTING_SAVINGS'],errors = 'coerce')\n#CREDIT_HISTORY_CAT=pd.get_dummies(clean_df3['CREDIT_HISTORY'])\n#clean_df3 =pd.concat((clean_df3,CREDIT_HISTORY_CAT), axis=1)\n#accounts_clean_df=clean_df3.drop(['CREDIT_HISTORY'], axis=1)\n"
        },
        {
            "cell_type": "code",
            "execution_count": 11,
            "metadata": {
                "scrolled": true
            },
            "outputs": [
                {
                    "name": "stdout",
                    "output_type": "stream",
                    "text": "<class 'pandas.core.frame.DataFrame'>\nInt64Index: 2237 entries, 0 to 2236\nData columns (total 22 columns):\n #   Column                      Non-Null Count  Dtype  \n---  ------                      --------------  -----  \n 0   ID                          2237 non-null   int64  \n 1   PAYMENT_TERM                2237 non-null   float64\n 2   INSTALLMENT_PLANS           2237 non-null   object \n 3   INSTALLMENT_PERCENT         2237 non-null   float64\n 4   LOAN_PURPOSE                2237 non-null   object \n 5   LOAN_AMOUNT                 2237 non-null   float64\n 6   OTHERS_ON_LOAN              2237 non-null   object \n 7   ALLOW                       2237 non-null   int64  \n 8   SEX                         2237 non-null   object \n 9   AGE                         2237 non-null   float64\n 10  JOB_TYPE                    2237 non-null   float64\n 11  DEPENDENTS                  2237 non-null   float64\n 12  TELEPHONE                   2237 non-null   float64\n 13  FOREIGN_WORKER              2237 non-null   float64\n 14  EMPLOYMENT_DURATION         2237 non-null   float64\n 15  PROPERTY                    2237 non-null   object \n 16  HOUSING                     2237 non-null   object \n 17  CURRENT_RESIDENCE_DURATION  2237 non-null   float64\n 18  CHECKING_BALANCE            2237 non-null   object \n 19  CREDIT_HISTORY              2237 non-null   object \n 20  EXISTING_SAVINGS            2237 non-null   object \n 21  EXISTING_CREDITS_COUNT      2237 non-null   float64\ndtypes: float64(11), int64(2), object(9)\nmemory usage: 402.0+ KB\n"
                },
                {
                    "data": {
                        "text/plain": "Index(['ID', 'PAYMENT_TERM', 'INSTALLMENT_PLANS', 'INSTALLMENT_PERCENT',\n       'LOAN_PURPOSE', 'LOAN_AMOUNT', 'OTHERS_ON_LOAN', 'ALLOW', 'SEX', 'AGE',\n       'JOB_TYPE', 'DEPENDENTS', 'TELEPHONE', 'FOREIGN_WORKER',\n       'EMPLOYMENT_DURATION', 'PROPERTY', 'HOUSING',\n       'CURRENT_RESIDENCE_DURATION', 'CHECKING_BALANCE', 'CREDIT_HISTORY',\n       'EXISTING_SAVINGS', 'EXISTING_CREDITS_COUNT'],\n      dtype='object')"
                    },
                    "execution_count": 11,
                    "metadata": {},
                    "output_type": "execute_result"
                }
            ],
            "source": "merged_inner = pd.merge(left=clean_df,right=clean_df2, left_on='ID', right_on='ID')\nmerged_inner = pd.merge(left=merged_inner,right=clean_df3, left_on='ID', right_on='ID')\nmerged_inner.info()\nmerged_inner.columns"
        },
        {
            "cell_type": "code",
            "execution_count": 12,
            "metadata": {},
            "outputs": [],
            "source": "merged_inner = merged_inner.drop(merged_inner[merged_inner['EXISTING_SAVINGS']=='UNKNOWN'].index)\nmerged_inner['CHECKING_BALANCE']= merged_inner['CHECKING_BALANCE'].replace('NO_CHECKING','0')\nmerged_inner = merged_inner.drop(merged_inner[merged_inner['EXISTING_SAVINGS']=='UNKNOWN'].index)\nINSTALLMENT_PLANS_CAT=pd.get_dummies(merged_inner['INSTALLMENT_PLANS'])\nLOAN_PURPOSE_CAT=pd.get_dummies(merged_inner['LOAN_PURPOSE'])\nOTHERS_ON_LOAN_CAT=pd.get_dummies(merged_inner['OTHERS_ON_LOAN'])\n\nSEX=pd.get_dummies(merged_inner['SEX'])\nPROPERTY_CAT=pd.get_dummies(merged_inner['PROPERTY'])\nHOUSING_CAT=pd.get_dummies(merged_inner['HOUSING'])\n\n\nmerged_inner['CHECKING_BALANCE'] = pd.to_numeric(merged_inner['CHECKING_BALANCE'],errors = 'coerce')\nmerged_inner['EXISTING_SAVINGS'] = pd.to_numeric(merged_inner['EXISTING_SAVINGS'],errors = 'coerce')\nCREDIT_HISTORY_CAT=pd.get_dummies(merged_inner['CREDIT_HISTORY'])\n\nmerged_inner =pd.concat((merged_inner,OTHERS_ON_LOAN_CAT,LOAN_PURPOSE_CAT,INSTALLMENT_PLANS_CAT), axis=1)\nmerged_inner=merged_inner.drop(['INSTALLMENT_PLANS','LOAN_PURPOSE','OTHERS_ON_LOAN'], axis=1)\n\nmerged_inner =pd.concat((merged_inner,SEX,PROPERTY_CAT,HOUSING_CAT), axis=1)\nmerged_inner=merged_inner.drop(['PROPERTY','HOUSING','SEX'], axis=1)\n\nmerged_inner =pd.concat((merged_inner,CREDIT_HISTORY_CAT), axis=1)\nmerged_inner=merged_inner.drop(['CREDIT_HISTORY'], axis=1)"
        },
        {
            "cell_type": "code",
            "execution_count": 13,
            "metadata": {},
            "outputs": [
                {
                    "name": "stdout",
                    "output_type": "stream",
                    "text": "<class 'pandas.core.frame.DataFrame'>\nInt64Index: 2075 entries, 0 to 2234\nData columns (total 46 columns):\n #   Column                      Non-Null Count  Dtype  \n---  ------                      --------------  -----  \n 0   ID                          2075 non-null   int64  \n 1   PAYMENT_TERM                2075 non-null   float64\n 2   INSTALLMENT_PERCENT         2075 non-null   float64\n 3   LOAN_AMOUNT                 2075 non-null   float64\n 4   ALLOW                       2075 non-null   int64  \n 5   AGE                         2075 non-null   float64\n 6   JOB_TYPE                    2075 non-null   float64\n 7   DEPENDENTS                  2075 non-null   float64\n 8   TELEPHONE                   2075 non-null   float64\n 9   FOREIGN_WORKER              2075 non-null   float64\n 10  EMPLOYMENT_DURATION         2075 non-null   float64\n 11  CURRENT_RESIDENCE_DURATION  2075 non-null   float64\n 12  CHECKING_BALANCE            2075 non-null   float64\n 13  EXISTING_SAVINGS            2075 non-null   float64\n 14  EXISTING_CREDITS_COUNT      2075 non-null   float64\n 15  CO-APPLICANT                2075 non-null   uint8  \n 16  GUARANTOR                   2075 non-null   uint8  \n 17  NONE                        2075 non-null   uint8  \n 18  APPLIANCES                  2075 non-null   uint8  \n 19  BUSINESS                    2075 non-null   uint8  \n 20  CAR_NEW                     2075 non-null   uint8  \n 21  CAR_USED                    2075 non-null   uint8  \n 22  EDUCATION                   2075 non-null   uint8  \n 23  FURNITURE                   2075 non-null   uint8  \n 24  OTHER                       2075 non-null   uint8  \n 25  RADIO_TV                    2075 non-null   uint8  \n 26  REPAIRS                     2075 non-null   uint8  \n 27  RETRAINING                  2075 non-null   uint8  \n 28  VACATION                    2075 non-null   uint8  \n 29  BANK                        2075 non-null   uint8  \n 30  NONE                        2075 non-null   uint8  \n 31  STORES                      2075 non-null   uint8  \n 32  F                           2075 non-null   uint8  \n 33  M                           2075 non-null   uint8  \n 34  CAR_OTHER                   2075 non-null   uint8  \n 35  REAL_ESTATE                 2075 non-null   uint8  \n 36  SAVINGS_INSURANCE           2075 non-null   uint8  \n 37  UNKNOWN                     2075 non-null   uint8  \n 38  FREE                        2075 non-null   uint8  \n 39  OWN                         2075 non-null   uint8  \n 40  RENT                        2075 non-null   uint8  \n 41  ALL_CREDITS_PAID_BACK       2075 non-null   uint8  \n 42  CREDITS_PAID_TO_DATE        2075 non-null   uint8  \n 43  NO_CREDITS                  2075 non-null   uint8  \n 44  OUTSTANDING_CREDIT          2075 non-null   uint8  \n 45  PRIOR_PAYMENTS_DELAYED      2075 non-null   uint8  \ndtypes: float64(13), int64(2), uint8(31)\nmemory usage: 386.7 KB\n"
                },
                {
                    "data": {
                        "text/plain": "Index(['ID', 'PAYMENT_TERM', 'INSTALLMENT_PERCENT', 'LOAN_AMOUNT', 'ALLOW',\n       'AGE', 'JOB_TYPE', 'DEPENDENTS', 'TELEPHONE', 'FOREIGN_WORKER',\n       'EMPLOYMENT_DURATION', 'CURRENT_RESIDENCE_DURATION', 'CHECKING_BALANCE',\n       'EXISTING_SAVINGS', 'EXISTING_CREDITS_COUNT', 'CO-APPLICANT',\n       'GUARANTOR', 'NONE', 'APPLIANCES', 'BUSINESS', 'CAR_NEW', 'CAR_USED',\n       'EDUCATION', 'FURNITURE', 'OTHER', 'RADIO_TV', 'REPAIRS', 'RETRAINING',\n       'VACATION', 'BANK', 'NONE', 'STORES', 'F', 'M', 'CAR_OTHER',\n       'REAL_ESTATE', 'SAVINGS_INSURANCE', 'UNKNOWN', 'FREE', 'OWN', 'RENT',\n       'ALL_CREDITS_PAID_BACK', 'CREDITS_PAID_TO_DATE', 'NO_CREDITS',\n       'OUTSTANDING_CREDIT', 'PRIOR_PAYMENTS_DELAYED'],\n      dtype='object')"
                    },
                    "execution_count": 13,
                    "metadata": {},
                    "output_type": "execute_result"
                }
            ],
            "source": "merged_inner.dropna()\nmerged_inner.info()\nmerged_inner.columns"
        },
        {
            "cell_type": "code",
            "execution_count": 14,
            "metadata": {},
            "outputs": [
                {
                    "data": {
                        "text/plain": "<AxesSubplot:xlabel='ALLOW', ylabel='Count'>"
                    },
                    "execution_count": 14,
                    "metadata": {},
                    "output_type": "execute_result"
                },
                {
                    "data": {
                        "image/png": "[encoded data removed]",
                        "text/plain": "<Figure size 432x288 with 1 Axes>"
                    },
                    "metadata": {
                        "needs_background": "light"
                    },
                    "output_type": "display_data"
                }
            ],
            "source": "sns.histplot(merged_inner['ALLOW'])"
        },
        {
            "cell_type": "code",
            "execution_count": 15,
            "metadata": {},
            "outputs": [
                {
                    "name": "stdout",
                    "output_type": "stream",
                    "text": "Exactitud del modelo (n\u00famero de predicciones asertadas sobre el n\u00famero total de pruebas): 0.689156626506024\n0.689156626506024\n"
                }
            ],
            "source": "y = merged_inner['ALLOW']\nX = merged_inner[['PAYMENT_TERM', 'INSTALLMENT_PERCENT', 'LOAN_AMOUNT',\n       'CO-APPLICANT', 'GUARANTOR', 'NONE', 'APPLIANCES', 'BUSINESS',\n       'CAR_NEW', 'CAR_USED', 'EDUCATION', 'FURNITURE', 'OTHER', 'RADIO_TV',\n       'REPAIRS', 'RETRAINING', 'VACATION', 'BANK', 'NONE', 'STORES', 'AGE',\n       'JOB_TYPE', 'DEPENDENTS', 'TELEPHONE', 'FOREIGN_WORKER',\n       'EMPLOYMENT_DURATION', 'CURRENT_RESIDENCE_DURATION', 'F', 'M',\n       'CAR_OTHER', 'REAL_ESTATE', 'SAVINGS_INSURANCE', 'UNKNOWN', 'FREE',\n       'OWN', 'RENT', 'CHECKING_BALANCE', 'EXISTING_SAVINGS',\n       'EXISTING_CREDITS_COUNT', 'ALL_CREDITS_PAID_BACK',\n       'CREDITS_PAID_TO_DATE', 'NO_CREDITS', 'OUTSTANDING_CREDIT',\n       'PRIOR_PAYMENTS_DELAYED']]\nX_train, X_test, y_train, y_test = train_test_split(X, y, test_size=0.20, random_state=27)\narbol_model = DecisionTreeClassifier()\narbol_model.fit(X_train,y_train)\narbol_model.predict(X_test)\ny_pred = arbol_model.predict(X_test)\nacc = accuracy_score(y_test, y_pred)\nprint(f\"Exactitud del modelo (n\u00famero de predicciones asertadas sobre el n\u00famero total de pruebas): {acc}\")\nprint(arbol_model.score(X_test, y_test))"
        },
        {
            "cell_type": "code",
            "execution_count": 16,
            "metadata": {},
            "outputs": [
                {
                    "name": "stdout",
                    "output_type": "stream",
                    "text": "Requirement already satisfied: ibm-watson-machine-learning in /opt/conda/envs/Python-3.8-main/lib/python3.8/site-packages (1.0.173)\nRequirement already satisfied: pandas<1.3.0,>=0.24.2 in /opt/conda/envs/Python-3.8-main/lib/python3.8/site-packages (from ibm-watson-machine-learning) (1.2.4)\nRequirement already satisfied: certifi in /opt/conda/envs/Python-3.8-main/lib/python3.8/site-packages (from ibm-watson-machine-learning) (2021.10.8)\nRequirement already satisfied: packaging in /opt/conda/envs/Python-3.8-main/lib/python3.8/site-packages (from ibm-watson-machine-learning) (20.9)\nRequirement already satisfied: urllib3 in /opt/conda/envs/Python-3.8-main/lib/python3.8/site-packages (from ibm-watson-machine-learning) (1.26.6)\nRequirement already satisfied: lomond in /opt/conda/envs/Python-3.8-main/lib/python3.8/site-packages (from ibm-watson-machine-learning) (0.3.3)\nRequirement already satisfied: requests in /opt/conda/envs/Python-3.8-main/lib/python3.8/site-packages (from ibm-watson-machine-learning) (2.25.1)\nRequirement already satisfied: tabulate in /opt/conda/envs/Python-3.8-main/lib/python3.8/site-packages (from ibm-watson-machine-learning) (0.8.9)\nRequirement already satisfied: importlib-resources in /opt/conda/envs/Python-3.8-main/lib/python3.8/site-packages (from ibm-watson-machine-learning) (5.4.0)\nRequirement already satisfied: ibm-cos-sdk==2.7.* in /opt/conda/envs/Python-3.8-main/lib/python3.8/site-packages (from ibm-watson-machine-learning) (2.7.0)\nRequirement already satisfied: ibm-cos-sdk-s3transfer==2.7.0 in /opt/conda/envs/Python-3.8-main/lib/python3.8/site-packages (from ibm-cos-sdk==2.7.*->ibm-watson-machine-learning) (2.7.0)\nRequirement already satisfied: jmespath<1.0.0,>=0.7.1 in /opt/conda/envs/Python-3.8-main/lib/python3.8/site-packages (from ibm-cos-sdk==2.7.*->ibm-watson-machine-learning) (0.10.0)\nRequirement already satisfied: ibm-cos-sdk-core==2.7.0 in /opt/conda/envs/Python-3.8-main/lib/python3.8/site-packages (from ibm-cos-sdk==2.7.*->ibm-watson-machine-learning) (2.7.0)\nRequirement already satisfied: docutils<0.16,>=0.10 in /opt/conda/envs/Python-3.8-main/lib/python3.8/site-packages (from ibm-cos-sdk-core==2.7.0->ibm-cos-sdk==2.7.*->ibm-watson-machine-learning) (0.15.2)\nRequirement already satisfied: python-dateutil<3.0.0,>=2.1 in /opt/conda/envs/Python-3.8-main/lib/python3.8/site-packages (from ibm-cos-sdk-core==2.7.0->ibm-cos-sdk==2.7.*->ibm-watson-machine-learning) (2.8.1)\nRequirement already satisfied: pytz>=2017.3 in /opt/conda/envs/Python-3.8-main/lib/python3.8/site-packages (from pandas<1.3.0,>=0.24.2->ibm-watson-machine-learning) (2021.1)\nRequirement already satisfied: numpy>=1.16.5 in /opt/conda/envs/Python-3.8-main/lib/python3.8/site-packages (from pandas<1.3.0,>=0.24.2->ibm-watson-machine-learning) (1.19.2)\nRequirement already satisfied: six>=1.5 in /opt/conda/envs/Python-3.8-main/lib/python3.8/site-packages (from python-dateutil<3.0.0,>=2.1->ibm-cos-sdk-core==2.7.0->ibm-cos-sdk==2.7.*->ibm-watson-machine-learning) (1.15.0)\nRequirement already satisfied: chardet<5,>=3.0.2 in /opt/conda/envs/Python-3.8-main/lib/python3.8/site-packages (from requests->ibm-watson-machine-learning) (3.0.4)\nRequirement already satisfied: idna<3,>=2.5 in /opt/conda/envs/Python-3.8-main/lib/python3.8/site-packages (from requests->ibm-watson-machine-learning) (2.8)\nRequirement already satisfied: zipp>=3.1.0 in /opt/conda/envs/Python-3.8-main/lib/python3.8/site-packages (from importlib-resources->ibm-watson-machine-learning) (3.4.1)\nRequirement already satisfied: pyparsing>=2.0.2 in /opt/conda/envs/Python-3.8-main/lib/python3.8/site-packages (from packaging->ibm-watson-machine-learning) (2.4.7)\n"
                }
            ],
            "source": "# Instalar la biblioteca WML\n!pip install -U ibm-watson-machine-learning"
        },
        {
            "cell_type": "code",
            "execution_count": 17,
            "metadata": {},
            "outputs": [],
            "source": "from ibm_watson_machine_learning import APIClient"
        },
        {
            "cell_type": "code",
            "execution_count": 70,
            "metadata": {},
            "outputs": [],
            "source": "api_key = ''\nlocation = 'eu-de' # En caso de WML estar en una regi\u00f3n diferente, altere esta linea\n\nwml_credentials = {\n    \"apikey\": api_key,\n    \"url\": 'https://' + location + '.ml.cloud.ibm.com'\n}\n\nclient = APIClient(wml_credentials)"
        },
        {
            "cell_type": "code",
            "execution_count": null,
            "metadata": {},
            "outputs": [],
            "source": "# Lista espacios creados en su instancia de WML\nclient.spaces.list(limit=10)"
        },
        {
            "cell_type": "raw",
            "metadata": {},
            "source": "space_id = '7d06e45b-fc20-4432-b32c-0c7d577d47b5'\nclient.set.default_space(space_id)"
        },
        {
            "cell_type": "code",
            "execution_count": null,
            "metadata": {},
            "outputs": [],
            "source": "client.spaces.list(limit=10)"
        },
        {
            "cell_type": "code",
            "execution_count": 91,
            "metadata": {},
            "outputs": [
                {
                    "data": {
                        "text/plain": "Pipeline(steps=[('ConvertData',\n                 ConvertData(columns=['CREDIT_HISTORY', 'LOAN_PURPOSE', 'AGE',\n                                      'LOAN_AMOUNT', 'CHECKING_BALANCE',\n                                      'EMPLOYMENT_DURATION',\n                                      'EXISTING_CREDITS_COUNT', 'TELEPHONE',\n                                      'ID', 'DEPENDENTS',\n                                      'CURRENT_RESIDENCE_DURATION',\n                                      'INSTALLMENT_PLANS', 'EXISTING_SAVINGS',\n                                      'HOUSING', 'PAYMENT_TERM', 'SEX',\n                                      'OTHERS_ON_LOAN', 'FOREIGN_WORKER',\n                                      'JOB_TYPE', 'INSTALLMENT_PERCENT',\n                                      'PROPERTY'])),\n                ('classification', DecisionTreeClassifier())])"
                    },
                    "execution_count": 91,
                    "metadata": {},
                    "output_type": "execute_result"
                }
            ],
            "source": "challenge_columns = ['ID', 'CHECKING_BALANCE', 'PAYMENT_TERM', 'CREDIT_HISTORY',\n       'LOAN_PURPOSE', 'LOAN_AMOUNT', 'EXISTING_SAVINGS',\n       'EMPLOYMENT_DURATION', 'INSTALLMENT_PERCENT', 'SEX', 'OTHERS_ON_LOAN',\n       'CURRENT_RESIDENCE_DURATION', 'PROPERTY', 'AGE', 'INSTALLMENT_PLANS',\n       'HOUSING', 'EXISTING_CREDITS_COUNT', 'JOB_TYPE', 'DEPENDENTS',\n       'TELEPHONE', 'FOREIGN_WORKER', 'ALLOW']\n\n# Un transformador \nclass ConvertData(BaseEstimator, TransformerMixin):\n    def __init__(self, columns):\n        self.columns = columns\n\n    def fit(self, X, y=None):\n        return self\n\n    def transform(self, X):\n        # Primero realizamos la c\u00f3pia del DataFrame 'X' de entrada\n        data = X.copy()\n        data = data.drop(data[data['EXISTING_SAVINGS']=='UNKNOWN'].index)\n        data['CHECKING_BALANCE']= data['CHECKING_BALANCE'].replace('NO_CHECKING','0')\n        data = data.drop(data[data['EXISTING_SAVINGS']=='UNKNOWN'].index)\n        INSTALLMENT_PLANS_CAT=pd.get_dummies(data['INSTALLMENT_PLANS'])\n        LOAN_PURPOSE_CAT=pd.get_dummies(data['LOAN_PURPOSE'])\n        OTHERS_ON_LOAN_CAT=pd.get_dummies(data['OTHERS_ON_LOAN'])\n        SEX=pd.get_dummies(data['SEX'])\n        PROPERTY_CAT=pd.get_dummies(data['PROPERTY'])\n        HOUSING_CAT=pd.get_dummies(data['HOUSING'])\n        data['CHECKING_BALANCE'] = pd.to_numeric(data['CHECKING_BALANCE'],errors = 'coerce')\n        data['EXISTING_SAVINGS'] = pd.to_numeric(data['EXISTING_SAVINGS'],errors = 'coerce')\n        CREDIT_HISTORY_CAT=pd.get_dummies(data['CREDIT_HISTORY'])\n        data =pd.concat((data,OTHERS_ON_LOAN_CAT,LOAN_PURPOSE_CAT,INSTALLMENT_PLANS_CAT), axis=1)\n        data=data.drop(['INSTALLMENT_PLANS','LOAN_PURPOSE','OTHERS_ON_LOAN'], axis=1)\n        data =pd.concat((data,SEX,PROPERTY_CAT,HOUSING_CAT), axis=1)\n        data=data.drop(['PROPERTY','HOUSING','SEX'], axis=1)\n        data =pd.concat((data,CREDIT_HISTORY_CAT), axis=1)\n        data=data.drop(['CREDIT_HISTORY'], axis=1)\n        # Retornamos um nuevo dataframe sin las colunmas indeseadas\n        return data.dropna()\nfeatures = ['ID' 'PAYMENT_TERM', 'INSTALLMENT_PLANS', 'INSTALLMENT_PERCENT',\n       'LOAN_PURPOSE', 'LOAN_AMOUNT', 'OTHERS_ON_LOAN', 'SEX', 'AGE',\n       'JOB_TYPE', 'DEPENDENTS', 'TELEPHONE', 'FOREIGN_WORKER',\n       'EMPLOYMENT_DURATION', 'PROPERTY', 'HOUSING',\n       'CURRENT_RESIDENCE_DURATION', 'CHECKING_BALANCE', 'CREDIT_HISTORY',\n       'EXISTING_SAVINGS', 'EXISTING_CREDITS_COUNT']\ntarget = ['ALLOW']  \nunwanted_columns = list((set(challenge_columns) - set(target))) # Remover todas las colunmas que no son features do nuestro modelo\ndata_convert = ConvertData(unwanted_columns)\n\npipeline = Pipeline(steps=[('ConvertData', data_convert), ('classification', arbol_model)])\npipeline"
        },
        {
            "cell_type": "code",
            "execution_count": 75,
            "metadata": {},
            "outputs": [
                {
                    "name": "stdout",
                    "output_type": "stream",
                    "text": "Cloning into 'watson-sklearn-transforms'...\nremote: Enumerating objects: 63, done.\u001b[K\nremote: Counting objects: 100% (4/4), done.\u001b[K\nremote: Compressing objects: 100% (4/4), done.\u001b[K\nremote: Total 63 (delta 0), reused 0 (delta 0), pack-reused 59\u001b[K\nUnpacking objects: 100% (63/63), 10.94 KiB | 127.00 KiB/s, done.\nupdating: watson-sklearn-transforms/ (stored 0%)\nupdating: watson-sklearn-transforms/setup.py (deflated 46%)\nupdating: watson-sklearn-transforms/my_custom_sklearn_transforms.egg-info/ (stored 0%)\nupdating: watson-sklearn-transforms/my_custom_sklearn_transforms.egg-info/not-zip-safe (stored 0%)\nupdating: watson-sklearn-transforms/my_custom_sklearn_transforms.egg-info/SOURCES.txt (deflated 48%)\nupdating: watson-sklearn-transforms/my_custom_sklearn_transforms.egg-info/PKG-INFO (deflated 33%)\nupdating: watson-sklearn-transforms/my_custom_sklearn_transforms.egg-info/top_level.txt (stored 0%)\nupdating: watson-sklearn-transforms/my_custom_sklearn_transforms.egg-info/dependency_links.txt (stored 0%)\nupdating: watson-sklearn-transforms/.git/ (stored 0%)\nupdating: watson-sklearn-transforms/.git/hooks/ (stored 0%)\nupdating: watson-sklearn-transforms/.git/hooks/post-update.sample (deflated 27%)\nupdating: watson-sklearn-transforms/.git/hooks/pre-applypatch.sample (deflated 38%)\nupdating: watson-sklearn-transforms/.git/hooks/pre-commit.sample (deflated 45%)\nupdating: watson-sklearn-transforms/.git/hooks/pre-merge-commit.sample (deflated 39%)\nupdating: watson-sklearn-transforms/.git/hooks/update.sample (deflated 69%)\nupdating: watson-sklearn-transforms/.git/hooks/pre-rebase.sample (deflated 59%)\nupdating: watson-sklearn-transforms/.git/hooks/applypatch-msg.sample (deflated 42%)\nupdating: watson-sklearn-transforms/.git/hooks/pre-push.sample (deflated 50%)\nupdating: watson-sklearn-transforms/.git/hooks/prepare-commit-msg.sample (deflated 50%)\nupdating: watson-sklearn-transforms/.git/hooks/commit-msg.sample (deflated 44%)\nupdating: watson-sklearn-transforms/.git/hooks/pre-receive.sample (deflated 40%)\nupdating: watson-sklearn-transforms/.git/hooks/fsmonitor-watchman.sample (deflated 62%)\nupdating: watson-sklearn-transforms/.git/HEAD (stored 0%)\nupdating: watson-sklearn-transforms/.git/description (deflated 14%)\nupdating: watson-sklearn-transforms/.git/logs/ (stored 0%)\nupdating: watson-sklearn-transforms/.git/logs/HEAD (deflated 28%)\nupdating: watson-sklearn-transforms/.git/logs/refs/ (stored 0%)\nupdating: watson-sklearn-transforms/.git/logs/refs/remotes/ (stored 0%)\nupdating: watson-sklearn-transforms/.git/logs/refs/remotes/origin/ (stored 0%)\nupdating: watson-sklearn-transforms/.git/logs/refs/remotes/origin/HEAD (deflated 28%)\nupdating: watson-sklearn-transforms/.git/logs/refs/heads/ (stored 0%)\nupdating: watson-sklearn-transforms/.git/logs/refs/heads/master (deflated 28%)\nupdating: watson-sklearn-transforms/.git/objects/ (stored 0%)\nupdating: watson-sklearn-transforms/.git/objects/b6/ (stored 0%)\nupdating: watson-sklearn-transforms/.git/objects/b6/979f3149443c66198e505c1e761f2766b4ea35 (stored 0%)\nupdating: watson-sklearn-transforms/.git/objects/cb/ (stored 0%)\nupdating: watson-sklearn-transforms/.git/objects/cb/d827fdd178a26f42d8b01c58320b03f3eae7fa (stored 0%)\nupdating: watson-sklearn-transforms/.git/objects/7e/ (stored 0%)\nupdating: watson-sklearn-transforms/.git/objects/7e/ae3d08dc940e367e3c1e2ac7a35a8b00df2e12 (stored 0%)\nupdating: watson-sklearn-transforms/.git/objects/21/ (stored 0%)\nupdating: watson-sklearn-transforms/.git/objects/21/64a6e4b4ca3afc26c4b21982d433c8c54039a1 (stored 0%)\nupdating: watson-sklearn-transforms/.git/objects/2e/ (stored 0%)\nupdating: watson-sklearn-transforms/.git/objects/2e/2e5168d3c37ccbaeb3b899da3f30fb6bc70031 (stored 0%)\nupdating: watson-sklearn-transforms/.git/objects/80/ (stored 0%)\nupdating: watson-sklearn-transforms/.git/objects/80/b20e55b5f52a87b7769e08df221e07d9cc0f3a (stored 0%)\nupdating: watson-sklearn-transforms/.git/objects/1e/ (stored 0%)\nupdating: watson-sklearn-transforms/.git/objects/1e/1e45038dfc30ed50e6d081ec85e8a3fdfb8913 (stored 0%)\nupdating: watson-sklearn-transforms/.git/objects/22/ (stored 0%)\nupdating: watson-sklearn-transforms/.git/objects/22/2e658014f5f2a43e16ce3c5e896e00fef1f3d5 (stored 0%)\nupdating: watson-sklearn-transforms/.git/objects/8c/ (stored 0%)\nupdating: watson-sklearn-transforms/.git/objects/8c/d09104c54f140d61a6e9fa6c2142d4565ee302 (stored 0%)\nupdating: watson-sklearn-transforms/.git/objects/8c/46dcca21d6dd2c23afb4a858d2b77d56bbf050 (stored 0%)\nupdating: watson-sklearn-transforms/.git/objects/cc/ (stored 0%)\nupdating: watson-sklearn-transforms/.git/objects/cc/fdab500390127d0490aaf9ee369565b05c41b4 (stored 0%)\nupdating: watson-sklearn-transforms/.git/objects/a3/ (stored 0%)\nupdating: watson-sklearn-transforms/.git/objects/a3/64aa315a8e83e4b8fbc2a84671fe09b5664e50 (stored 0%)\nupdating: watson-sklearn-transforms/.git/objects/pack/ (stored 0%)\nupdating: watson-sklearn-transforms/.git/objects/c6/ (stored 0%)\nupdating: watson-sklearn-transforms/.git/objects/c6/4e501fc43c00861aa7ccae744058ba87c304fd (stored 0%)\nupdating: watson-sklearn-transforms/.git/objects/c4/ (stored 0%)\nupdating: watson-sklearn-transforms/.git/objects/c4/b90bb9bfb2674c96e6d8aa6cc3c8e58194f953 (stored 0%)\nupdating: watson-sklearn-transforms/.git/objects/f2/ (stored 0%)\nupdating: watson-sklearn-transforms/.git/objects/f2/598626ccd27c586d5b759e5186abc64c058912 (stored 0%)\nupdating: watson-sklearn-transforms/.git/objects/99/ (stored 0%)\nupdating: watson-sklearn-transforms/.git/objects/99/bde3a281e0a208866b47dcde00a4e4cd8afca0 (stored 0%)\nupdating: watson-sklearn-transforms/.git/objects/61/ (stored 0%)\nupdating: watson-sklearn-transforms/.git/objects/61/e62b4f1623878ae0d92ffa812570be417feb82 (stored 0%)\nupdating: watson-sklearn-transforms/.git/objects/a0/ (stored 0%)\nupdating: watson-sklearn-transforms/.git/objects/a0/3066ce73d15efd1cc6449dea7e2b678089edd6 (stored 0%)\nupdating: watson-sklearn-transforms/.git/objects/d3/ (stored 0%)\nupdating: watson-sklearn-transforms/.git/objects/d3/697484c118054fc68a13eaac93c2f93536b77e (stored 0%)\nupdating: watson-sklearn-transforms/.git/objects/06/ (stored 0%)\nupdating: watson-sklearn-transforms/.git/objects/06/998ae152d5b5fad89c81a6853dbbc0830fd6c7 (stored 0%)\nupdating: watson-sklearn-transforms/.git/objects/2f/ (stored 0%)\nupdating: watson-sklearn-transforms/.git/objects/2f/ab3357d7d157a7a6bbda08aad6cf19970d2cc3 (stored 0%)\nupdating: watson-sklearn-transforms/.git/objects/e6/ (stored 0%)\nupdating: watson-sklearn-transforms/.git/objects/e6/9de29bb2d1d6434b8b29ae775ad8c2e48c5391 (stored 0%)\nupdating: watson-sklearn-transforms/.git/objects/bc/ (stored 0%)\nupdating: watson-sklearn-transforms/.git/objects/bc/a817006f92d9e390374c1ed6467fad5ff7bab0 (stored 0%)\nupdating: watson-sklearn-transforms/.git/objects/bc/bd8f17177cd1afe8396315d2039283fa993390 (stored 0%)\nupdating: watson-sklearn-transforms/.git/objects/0e/ (stored 0%)\nupdating: watson-sklearn-transforms/.git/objects/0e/cc61a0a4baff0885426f45a8fcb9fbb78f8009 (stored 0%)\nupdating: watson-sklearn-transforms/.git/objects/c0/ (stored 0%)\nupdating: watson-sklearn-transforms/.git/objects/c0/e12da6a090fe6b2740d0cbfa7119915a00a643 (stored 0%)\nupdating: watson-sklearn-transforms/.git/objects/info/ (stored 0%)\nupdating: watson-sklearn-transforms/.git/objects/2c/ (stored 0%)\nupdating: watson-sklearn-transforms/.git/objects/2c/c7a6bf2941a9d553a199a4fe658f0074a54b51 (stored 0%)\nupdating: watson-sklearn-transforms/.git/objects/2c/de64a17098cba673b28c995910b268f5e34e7a (stored 0%)\nupdating: watson-sklearn-transforms/.git/objects/77/ (stored 0%)\nupdating: watson-sklearn-transforms/.git/objects/77/7798a7cedea3a2fddef8dd0b7691c9b1f9f97b (stored 0%)\nupdating: watson-sklearn-transforms/.git/objects/85/ (stored 0%)\nupdating: watson-sklearn-transforms/.git/objects/85/bd34a4ae5f5c965a082a26b38a3268a662ae2b (stored 0%)\nupdating: watson-sklearn-transforms/.git/objects/da/ (stored 0%)\nupdating: watson-sklearn-transforms/.git/objects/da/64b79708ea475e8c6b484d837676ce91d9801e (stored 0%)\nupdating: watson-sklearn-transforms/.git/objects/c3/ (stored 0%)\nupdating: watson-sklearn-transforms/.git/objects/c3/9f70251de841c8e55e9c58d2fa7dbbe2d2fb0f (stored 0%)\nupdating: watson-sklearn-transforms/.git/objects/26/ (stored 0%)\nupdating: watson-sklearn-transforms/.git/objects/26/3abe321ee224139817e2325d5c91ac8f0eed50 (stored 0%)\nupdating: watson-sklearn-transforms/.git/objects/70/ (stored 0%)\nupdating: watson-sklearn-transforms/.git/objects/70/d45e73159aac850151a43b896313d3cd53f1c2 (stored 0%)\nupdating: watson-sklearn-transforms/.git/objects/1b/ (stored 0%)\nupdating: watson-sklearn-transforms/.git/objects/1b/9e7f9e69d0cac5283f551433cdaf8e65199698 (stored 0%)\nupdating: watson-sklearn-transforms/.git/objects/7b/ (stored 0%)\nupdating: watson-sklearn-transforms/.git/objects/7b/04014fbd820cb0146dcec7965f01f304436510 (stored 0%)\nupdating: watson-sklearn-transforms/.git/objects/6a/ (stored 0%)\nupdating: watson-sklearn-transforms/.git/objects/6a/3c980900b1ce8383ed0fd1cbcb9195d582cf4e (stored 0%)\nupdating: watson-sklearn-transforms/.git/objects/af/ (stored 0%)\nupdating: watson-sklearn-transforms/.git/objects/af/1140cfcb4e33bc03d9b067c1f7d70147d043d7 (stored 0%)\nupdating: watson-sklearn-transforms/.git/objects/4c/ (stored 0%)\nupdating: watson-sklearn-transforms/.git/objects/4c/10ccd015d9a2ad9efbcfc50f834c85c4d5f1c6 (stored 0%)\nupdating: watson-sklearn-transforms/.git/objects/d7/ (stored 0%)\nupdating: watson-sklearn-transforms/.git/objects/d7/cfed1a9cf21930beb933ecafb2e3d4d3a77874 (stored 0%)\nupdating: watson-sklearn-transforms/.git/objects/46/ (stored 0%)\nupdating: watson-sklearn-transforms/.git/objects/46/862abd9b50e51c99a1f65be820af360594f8c2 (stored 0%)\nupdating: watson-sklearn-transforms/.git/objects/9b/ (stored 0%)\nupdating: watson-sklearn-transforms/.git/objects/9b/9fe6ce4d68c31dfc1eb7e923e5c90b0595b24d (stored 0%)\nupdating: watson-sklearn-transforms/.git/objects/82/ (stored 0%)\nupdating: watson-sklearn-transforms/.git/objects/82/e0b0b52c39cd1840e7853e6d00986fae5683f4 (stored 0%)\nupdating: watson-sklearn-transforms/.git/objects/39/ (stored 0%)\nupdating: watson-sklearn-transforms/.git/objects/39/d4d3fd1cc23783dbadb2d673f3758863106854 (stored 0%)\nupdating: watson-sklearn-transforms/.git/objects/39/ccfbaf81e116c9eb9781c7cd0b7acdd5ad10aa (stored 0%)\nupdating: watson-sklearn-transforms/.git/objects/1c/ (stored 0%)\nupdating: watson-sklearn-transforms/.git/objects/1c/49d4656922fe1182c905339ec7a468e6881d99 (stored 0%)\nupdating: watson-sklearn-transforms/.git/objects/58/ (stored 0%)\nupdating: watson-sklearn-transforms/.git/objects/58/25ba31fa0c00d63a9dc9865e0c848442a6fbcd (stored 0%)\nupdating: watson-sklearn-transforms/.git/objects/e8/ (stored 0%)\nupdating: watson-sklearn-transforms/.git/objects/e8/8e9a7c9bc5a570d097ba4001ea0c327cba6f0a (stored 0%)\nupdating: watson-sklearn-transforms/.git/objects/8b/ (stored 0%)\nupdating: watson-sklearn-transforms/.git/objects/8b/137891791fe96927ad78e64b0aad7bded08bdc (stored 0%)\nupdating: watson-sklearn-transforms/.git/objects/d0/ (stored 0%)\nupdating: watson-sklearn-transforms/.git/objects/d0/4d8adf3dbf886c5799f7f367168b0785f0a4f5 (stored 0%)\nupdating: watson-sklearn-transforms/.git/objects/29/ (stored 0%)\nupdating: watson-sklearn-transforms/.git/objects/29/ffc1c2af8fa4b0ef5eef0ba4fdc441915d1a91 (stored 0%)\nupdating: watson-sklearn-transforms/.git/objects/29/c65b6319ccd5b1c7da36655bb0c44e09fff991 (stored 0%)\nupdating: watson-sklearn-transforms/.git/objects/05/ (stored 0%)\nupdating: watson-sklearn-transforms/.git/objects/05/6cab60f81eb62f20ffd3cab59b6d232f0188e9 (stored 0%)\nupdating: watson-sklearn-transforms/.git/objects/9a/ (stored 0%)\nupdating: watson-sklearn-transforms/.git/objects/9a/5a90e545e9c5a35eb61f2c1fd0da103e4080a0 (stored 0%)\nupdating: watson-sklearn-transforms/.git/objects/24/ (stored 0%)\nupdating: watson-sklearn-transforms/.git/objects/24/7b371c9092731e07412dc5286126ed3a18756a (stored 0%)\nupdating: watson-sklearn-transforms/.git/objects/aa/ (stored 0%)\nupdating: watson-sklearn-transforms/.git/objects/aa/1db9544c86800c5018cb8f28d1e74fbd192991 (stored 0%)\nupdating: watson-sklearn-transforms/.git/objects/f9/ (stored 0%)\nupdating: watson-sklearn-transforms/.git/objects/f9/842759dbd395649399f47479175e044b6b40ae (stored 0%)\nupdating: watson-sklearn-transforms/.git/objects/04/ (stored 0%)\nupdating: watson-sklearn-transforms/.git/objects/04/b1ff2d79c9b11a1d494b6f6d42acb629236af4 (stored 0%)\nupdating: watson-sklearn-transforms/.git/objects/5a/ (stored 0%)\nupdating: watson-sklearn-transforms/.git/objects/5a/b47e5cada9bcefbd66782d50edf2a86005dcb5 (stored 0%)\nupdating: watson-sklearn-transforms/.git/objects/54/ (stored 0%)\nupdating: watson-sklearn-transforms/.git/objects/54/a860e717a464beb16bcb21419ab86f8351fbf0 (stored 0%)\nupdating: watson-sklearn-transforms/.git/objects/54/5d0fb908f733cd9eed69b0004a2dfeb33b5c48 (stored 0%)\nupdating: watson-sklearn-transforms/.git/objects/52/ (stored 0%)\nupdating: watson-sklearn-transforms/.git/objects/52/6fb1c4f5a0d3a2482041c7bd3f15263837acf5 (stored 0%)\nupdating: watson-sklearn-transforms/.git/objects/ee/ (stored 0%)\nupdating: watson-sklearn-transforms/.git/objects/ee/96aaec3459bae7b27b49e17f867db49c3257a8 (stored 0%)\nupdating: watson-sklearn-transforms/.git/refs/ (stored 0%)\nupdating: watson-sklearn-transforms/.git/refs/remotes/ (stored 0%)\nupdating: watson-sklearn-transforms/.git/refs/remotes/origin/ (stored 0%)\nupdating: watson-sklearn-transforms/.git/refs/remotes/origin/HEAD (stored 0%)\nupdating: watson-sklearn-transforms/.git/refs/heads/ (stored 0%)\nupdating: watson-sklearn-transforms/.git/refs/heads/master (stored 0%)\nupdating: watson-sklearn-transforms/.git/refs/tags/ (stored 0%)\nupdating: watson-sklearn-transforms/.git/info/ (stored 0%)\nupdating: watson-sklearn-transforms/.git/info/exclude (deflated 28%)\nupdating: watson-sklearn-transforms/.git/config (deflated 33%)\nupdating: watson-sklearn-transforms/.git/packed-refs (deflated 11%)\nupdating: watson-sklearn-transforms/.git/index (deflated 52%)\nupdating: watson-sklearn-transforms/.git/branches/ (stored 0%)\nupdating: watson-sklearn-transforms/setup.cfg (deflated 16%)\nupdating: watson-sklearn-transforms/PKG-INFO (deflated 31%)\nupdating: watson-sklearn-transforms/my_custom_sklearn_transforms/ (stored 0%)\nupdating: watson-sklearn-transforms/my_custom_sklearn_transforms/__init__.py (stored 0%)\nupdating: watson-sklearn-transforms/my_custom_sklearn_transforms/sklearn_transformers.py (deflated 66%)\nupdating: watson-sklearn-transforms/README.md (deflated 15%)\nProcessing ./drop-columns.zip\nBuilding wheels for collected packages: my-custom-sklearn-transforms\n  Building wheel for my-custom-sklearn-transforms (setup.py) ... \u001b[?25ldone\n\u001b[?25h  Created wheel for my-custom-sklearn-transforms: filename=my_custom_sklearn_transforms-1.0-py3-none-any.whl size=2351 sha256=6fc187dc9e7d7ad7929d9e06c551dc3f3b217d7b808756255b9d356559ffcd3a\n  Stored in directory: /tmp/wsuser/.cache/pip/wheels/89/1f/8c/eb23c23a1e65eeecc3c48272fbfea8209031ebd56fed0dc44c\nSuccessfully built my-custom-sklearn-transforms\nInstalling collected packages: my-custom-sklearn-transforms\n  Attempting uninstall: my-custom-sklearn-transforms\n    Found existing installation: my-custom-sklearn-transforms 1.0\n    Uninstalling my-custom-sklearn-transforms-1.0:\n      Successfully uninstalled my-custom-sklearn-transforms-1.0\nSuccessfully installed my-custom-sklearn-transforms-1.0\n"
                }
            ],
            "source": "!rm -rf watson-sklearn-transforms # Remover carpeta en caso de que ya exista\n!git clone https://github.com/AnderssonSanabria/watson-sklearn-transforms.git # Clonar el reposit\u00f3rio con el pacote\n!zip -r drop-columns.zip watson-sklearn-transforms # Zippear el paquete\n!pip install drop-columns.zip # Instalar el paquete zippeado"
        },
        {
            "cell_type": "code",
            "execution_count": 92,
            "metadata": {},
            "outputs": [
                {
                    "data": {
                        "text/plain": "Pipeline(steps=[('drop_columns',\n                 DropColumns(columns=['CREDIT_HISTORY', 'LOAN_PURPOSE', 'AGE',\n                                      'LOAN_AMOUNT', 'CHECKING_BALANCE',\n                                      'EMPLOYMENT_DURATION',\n                                      'EXISTING_CREDITS_COUNT', 'TELEPHONE',\n                                      'ID', 'DEPENDENTS',\n                                      'CURRENT_RESIDENCE_DURATION',\n                                      'INSTALLMENT_PLANS', 'EXISTING_SAVINGS',\n                                      'HOUSING', 'PAYMENT_TERM', 'SEX',\n                                      'OTHERS_ON_LOAN', 'FOREIGN_WORKER',\n                                      'JOB_TYPE', 'INSTALLMENT_PERCENT',\n                                      'PROPERTY'])),\n                ('classification', DecisionTreeClassifier())])"
                    },
                    "execution_count": 92,
                    "metadata": {},
                    "output_type": "execute_result"
                }
            ],
            "source": "from my_custom_sklearn_transforms.sklearn_transformers import DropColumns\n\ndrop_columns = DropColumns(unwanted_columns)\n\npipeline = Pipeline(steps=[('drop_columns', drop_columns), ('classification', arbol_model)])\npipeline"
        },
        {
            "cell_type": "code",
            "execution_count": 77,
            "metadata": {},
            "outputs": [
                {
                    "name": "stdout",
                    "output_type": "stream",
                    "text": "Creating package extensions\nSUCCESS\n"
                }
            ],
            "source": "# Metadatos para el paquete customizado\nmeta_prop_pkg_extn = {\n    client.package_extensions.ConfigurationMetaNames.NAME: \"Drop_Columns\",\n    client.package_extensions.ConfigurationMetaNames.DESCRIPTION: \"Extensi\u00f3n para remover columnas\",\n    client.package_extensions.ConfigurationMetaNames.TYPE: \"pip_zip\"\n}\n\n# Subir el paquete\npkg_extn_details = client.package_extensions.store(meta_props=meta_prop_pkg_extn, file_path=\"drop-columns.zip\")\n\n# Guardar las informaciones sobre el paquete\npkg_extn_uid = client.package_extensions.get_uid(pkg_extn_details)\npkg_extn_url = client.package_extensions.get_href(pkg_extn_details)"
        },
        {
            "cell_type": "code",
            "execution_count": 78,
            "metadata": {},
            "outputs": [
                {
                    "name": "stdout",
                    "output_type": "stream",
                    "text": "Creating package extensions\nSUCCESS\n"
                }
            ],
            "source": "\n# Subir el paquete\npkg_extn_details = client.package_extensions.store(meta_props=meta_prop_pkg_extn, file_path=\"drop-columns.zip\")\n\n# Guardar las informaciones sobre el paquete\npkg_extn_uid = client.package_extensions.get_uid(pkg_extn_details)\npkg_extn_url = client.package_extensions.get_href(pkg_extn_details)"
        },
        {
            "cell_type": "code",
            "execution_count": 79,
            "metadata": {},
            "outputs": [],
            "source": "base_sw_spec_uid = client.software_specifications.get_uid_by_name(\"default_py3.8\")\n"
        },
        {
            "cell_type": "code",
            "execution_count": 80,
            "metadata": {},
            "outputs": [
                {
                    "name": "stdout",
                    "output_type": "stream",
                    "text": "SUCCESS\n"
                },
                {
                    "data": {
                        "text/plain": "'SUCCESS'"
                    },
                    "execution_count": 80,
                    "metadata": {},
                    "output_type": "execute_result"
                }
            ],
            "source": "# Metadatos de la nueva especificaci\u00f3n de software\nmeta_prop_sw_spec = {\n    client.software_specifications.ConfigurationMetaNames.NAME: \"sw_spec_drop_columns\",\n    client.software_specifications.ConfigurationMetaNames.DESCRIPTION: \"Software specification for ConvertData\",\n    client.software_specifications.ConfigurationMetaNames.BASE_SOFTWARE_SPECIFICATION: {\"guid\": base_sw_spec_uid}\n}\n\n# Creando la nueva especificacion de software y obteniendo su ID\nsw_spec_details = client.software_specifications.store(meta_props=meta_prop_sw_spec)\nsw_spec_uid = client.software_specifications.get_uid(sw_spec_details)\n\n# Agregar el paquete personalizado a la nueva especificaci\u00f3n\nclient.software_specifications.add_package_extension(sw_spec_uid, pkg_extn_uid)"
        },
        {
            "cell_type": "code",
            "execution_count": null,
            "metadata": {},
            "outputs": [],
            "source": "# Metadatos del modelo\nmodel_props = {\n    client.repository.ModelMetaNames.NAME: \"Modelo com Pipeline customizada\",\n    client.repository.ModelMetaNames.TYPE: 'scikit-learn_0.23',\n    client.repository.ModelMetaNames.SOFTWARE_SPEC_UID: sw_spec_uid\n}\n\n# Publicando el Pipeline como um modelo\npublished_model = client.repository.store_model(model=pipeline, meta_props=model_props)\npublished_model_uid = client.repository.get_model_uid(published_model)\nclient.repository.get_details(published_model_uid)"
        },
        {
            "cell_type": "code",
            "execution_count": null,
            "metadata": {},
            "outputs": [],
            "source": "published_model_uid"
        },
        {
            "cell_type": "code",
            "execution_count": null,
            "metadata": {
                "scrolled": true
            },
            "outputs": [],
            "source": "# Metadatos para publicaci\u00f3n del modelo\nmetadata = {\n    client.deployments.ConfigurationMetaNames.NAME: \"Publicaci\u00f3n de modelo customizado\",\n    client.deployments.ConfigurationMetaNames.ONLINE: {}\n}\n\n# Publicar\ncreated_deployment = client.deployments.create(published_model_uid, meta_props=metadata)\n#deployment_uid = client.deployments.get_uid(created_deployment)\n"
        },
        {
            "cell_type": "code",
            "execution_count": null,
            "metadata": {},
            "outputs": [],
            "source": "\nprint(f\"Credenciales para el envio (no compartir estos datos con nadie!)\\n\\nAPI key: {api_key}\\nDeployment ID: {''}\")"
        },
        {
            "cell_type": "code",
            "execution_count": null,
            "metadata": {},
            "outputs": [],
            "source": ""
        }
    ],
    "metadata": {
        "kernelspec": {
            "display_name": "Python 3.8",
            "language": "python",
            "name": "python3"
        },
        "language_info": {
            "codemirror_mode": {
                "name": "ipython",
                "version": 3
            },
            "file_extension": ".py",
            "mimetype": "text/x-python",
            "name": "python",
            "nbconvert_exporter": "python",
            "pygments_lexer": "ipython3",
            "version": "3.8.12"
        }
    },
    "nbformat": 4,
    "nbformat_minor": 1
}
